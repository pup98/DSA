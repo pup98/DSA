{
 "cells": [
  {
   "cell_type": "markdown",
   "metadata": {},
   "source": [
    "## Linked List"
   ]
  },
  {
   "cell_type": "markdown",
   "metadata": {},
   "source": [
    "A linked list is a linear data structure, in which the elements are not stored at contiguous memory locations. The elements in a linked list are linked using pointers as shown in the below image:"
   ]
  },
  {
   "cell_type": "markdown",
   "metadata": {},
   "source": [
    "* A Linked List is a linear data structure that is used to store a collection of data with the help of nodes. A linked list is made up of two items that are data and a reference to the next node. A reference to the next node is given with the help of pointers and data is the value of a node. Each node contains data and links to the other nodes. It is an ordered collection of data elements called a node and the linear order is maintained by pointers. It has an upper hand over the array as the number of nodes i.e. the size of the linked list is not fixed and can grow and shrink as and when required, unlike arrays. Some of the features of the linked list are as follows:\n",
    "* The consecutive elements are connected by pointers.\n",
    "* The size of a linked list is not fixed.\n",
    "* The last node of the linked list points to null.\n",
    "* Memory is not wasted but extra memory is consumed as it also uses pointers to keep track of the next successive node.\n",
    "* The entry point of a linked list is known as the head. "
   ]
  },
  {
   "cell_type": "markdown",
   "metadata": {},
   "source": [
    "## Applications of Linked Lists:\n",
    "* Linked Lists are used to implement stacks and queues.\n",
    "* It is used for the various representations of trees and graphs.\n",
    "* It is used in dynamic memory allocation( linked list of free blocks).\n",
    "* It is used for representing sparse matrices.\n",
    "* It is used for the manipulation of polynomials.\n",
    "* It is also used for performing arithmetic operations on long integers.\n",
    "* It is used for finding paths in networks.\n",
    "* In operating systems, they can be used in Memory management, process scheduling and file system.\n",
    "* Linked lists can be used to improve the performance of algorithms that need to frequently insert or delete items from large collections of data.\n",
    "* Implementing algorithms such as the LRU cache, which uses a linked list to keep track of the most recently used items in a cache."
   ]
  },
  {
   "cell_type": "markdown",
   "metadata": {},
   "source": [
    "## Advantages of Linked Lists:\n",
    "Linked lists are a popular data structure in computer science, and have a number of advantages over other data structures, such as arrays. Some of the key advantages of linked lists are:\n",
    "\n",
    "* Dynamic size: Linked lists do not have a fixed size, so you can add or remove elements as needed, without having to worry about the size of the list. This makes linked lists a great choice when you need to work with a collection of items whose size can change dynamically.\n",
    "* Efficient Insertion and Deletion: Inserting or deleting elements in a linked list is fast and efficient, as you only need to modify the reference of the next node, which is an O(1) operation.\n",
    "* Memory Efficiency: Linked lists use only as much memory as they need, so they are more efficient with memory compared to arrays, which have a fixed size and can waste memory if not all elements are used.\n",
    "* Easy to Implement: Linked lists are relatively simple to implement and understand compared to other data structures like trees and graphs.\n",
    "* Flexibility: Linked lists can be used to implement various abstract data types, such as stacks, queues, and associative arrays.\n",
    "* Easy to navigate: Linked lists can be easily traversed, making it easier to find specific elements or perform operations on the list.\n",
    "* In conclusion, linked lists are a powerful and flexible data structure that have a number of advantages over other data structures, making them a great choice for solving many data structure and algorithm problems."
   ]
  },
  {
   "cell_type": "markdown",
   "metadata": {},
   "source": [
    "## Disadvantages of Linked Lists:\n",
    "Linked lists are a popular data structure in computer science, but like any other data structure, they have certain disadvantages as well. Some of the key disadvantages of linked lists are:\n",
    "\n",
    "* Slow Access Time: Accessing elements in a linked list can be slow, as you need to traverse the linked list to find the element you are looking for, which is an O(n) operation. This makes linked lists a poor choice for situations where you need to access elements quickly.\n",
    "* Pointers: Linked lists use pointers to reference the next node, which can make them more complex to understand and use compared to arrays. This complexity can make linked lists more difficult to debug and maintain.\n",
    "* Higher overhead: Linked lists have a higher overhead compared to arrays, as each node in a linked list requires extra memory to store the reference to the next node.\n",
    "* Cache Inefficiency: Linked lists are cache-inefficient because the memory is not contiguous. This means that when you traverse a linked list, you are not likely to get the data you need in the cache, leading to cache misses and slow performance.\n",
    "* Extra memory required: Linked lists require an extra pointer for each node, which takes up extra memory. This can be a problem when you are working with large data sets, as the extra memory required for the pointers can quickly add up."
   ]
  },
  {
   "cell_type": "code",
   "execution_count": 10,
   "metadata": {},
   "outputs": [
    {
     "name": "stdout",
     "output_type": "stream",
     "text": [
      "3 --> 45 --> 4 --> None\n"
     ]
    }
   ],
   "source": [
    "'''One way,  is more manual\n",
    "Node class, create instance, relate the reference, print nodes'''\n",
    "\n",
    "# we define a data structure to store nodes and respective structure\n",
    "class Node: \n",
    "    def __init__(self, data = None, nextNode = None):\n",
    "        self.data = data\n",
    "        self.nextNode = nextNode\n",
    "\n",
    "node1 = Node('3') # value: 3, nextnode : None\n",
    "node2 = Node('4')  # value: 4, nextnode : None\n",
    "node3 = Node('45')  # value: 45, nextnode : None\n",
    "\n",
    "node1.nextNode = node3 # nextnode : node2\n",
    "node3.nextNode = node2 # nextnode : node3\n",
    "\n",
    "def print_linkedList(node):\n",
    "    while node:\n",
    "        print(node.data, '--> ', end= '')\n",
    "        if node.nextNode is None:\n",
    "            print(node.nextNode)\n",
    "            break\n",
    "        node = node.nextNode\n",
    "\n",
    "print_linkedList(node1)"
   ]
  },
  {
   "cell_type": "code",
   "execution_count": 36,
   "metadata": {},
   "outputs": [
    {
     "name": "stdout",
     "output_type": "stream",
     "text": [
      "23 -> 7 -> 9 -> 90 -> None\n"
     ]
    },
    {
     "data": {
      "text/plain": [
       "'Size is 4'"
      ]
     },
     "execution_count": 36,
     "metadata": {},
     "output_type": "execute_result"
    }
   ],
   "source": [
    "class Node:\n",
    "    def __init__(self, data, next = None):\n",
    "        self.data = data\n",
    "        self.next = next\n",
    "\n",
    "class Linkedlist:\n",
    "    def __init__(self, head = None):\n",
    "        self.head = head\n",
    "        # self.head will be none for the instance object of Linkedlist ... initially\n",
    "\n",
    "    # insert node at start\n",
    "    def insert_start(self, data):\n",
    "        new_node = Node(data)\n",
    "        if self.head == None:\n",
    "            self.head = new_node\n",
    "            return\n",
    "        else:\n",
    "            new_node.next = self.head\n",
    "            self.head = new_node\n",
    "    \n",
    "    # insert at end\n",
    "    def insert_end(self, data):\n",
    "        new_node = Node(data)\n",
    "        if self.head == None:\n",
    "            self.head = new_node\n",
    "            return \n",
    "        \n",
    "        currentNode = self.head # purana wala node 23\n",
    "        # this current node > is always 23 + reference of 34\n",
    "\n",
    "        while(currentNode.next): # until current.next is None, it will run\n",
    "            currentNode = currentNode.next \n",
    "            # currentNode.next > reference of 2 node | currentNode = node2 (34)\n",
    "            # currentNode.next > reference of 3 node | currentNode = node3 (9)\n",
    "            # currentNode.next > None ... come out of loop \n",
    "        currentNode.next = new_node\n",
    "        # currentNode.next (None) = new node (90)\n",
    "\n",
    "    \n",
    "    def insert_at_index(self, data, index):\n",
    "        new_node = Node(data)\n",
    "        currentNode = self.head # fist node\n",
    "        position = 0 \n",
    "\n",
    "        if position == index:\n",
    "            self.insert_start(data)\n",
    "        else:\n",
    "            while (currentNode != None and position + 1 != index):\n",
    "                position += 1\n",
    "                currentNode = currentNode.next \n",
    "                # if position + 1 == index .. come out of loop\n",
    "                # goal is to update the currentNode!\n",
    "                # here currentNode will be the one just before the position+1 wala node .... \n",
    "    \n",
    "            if currentNode != None: # agr None hua to last node hoga .. rt\n",
    "                new_node.next = currentNode.next\n",
    "                currentNode.next = new_node \n",
    "            else: \n",
    "                print('index not found')\n",
    "\n",
    "    \n",
    "    def update_node(self, value, index):\n",
    "        currentNode = self.head\n",
    "        position = 0\n",
    "\n",
    "        if position == index:\n",
    "             currentNode.data = value\n",
    "        else:\n",
    "            while (currentNode != None and position + 1 != index):\n",
    "                position += 1\n",
    "                currentNode = currentNode.next\n",
    "                # eg if we want at index 2, currentNode will be 1st node after exiting the loop\n",
    "\n",
    "            if currentNode != None:\n",
    "                # so, we need the 2 node ... therefore below\n",
    "                currentNode = currentNode.next\n",
    "                currentNode.data = value\n",
    "            else:\n",
    "                print('Index not there')\n",
    "\n",
    "\n",
    "    # delete a first node\n",
    "    def delete_fist_node(self):\n",
    "        currentNode = self.head\n",
    "        self.head = currentNode.next\\\n",
    "    \n",
    "\n",
    "    # delete last node\n",
    "    def del_last_node(self):\n",
    "        currentNode = self.head\n",
    "        while (currentNode.next.next):\n",
    "            currentNode = currentNode.next\n",
    "        currentNode.next = None\n",
    "\n",
    "\n",
    "    # delete a element at a index\n",
    "    def del_at_index(self, index):\n",
    "        currentNode = self.head\n",
    "        position = 0\n",
    "\n",
    "        if position == index:\n",
    "            self.delete_fist_node()\n",
    "        else:\n",
    "            while (currentNode != None and position + 1 != index):\n",
    "                position += 1\n",
    "                currentNode = currentNode.next\n",
    "        if currentNode != None:\n",
    "            currentNode.next = currentNode.next.next # *7 > 9 > 90 | *7 > [7.next(9).next(90)] 90 > None\n",
    "        else:\n",
    "            print('index not there!')\n",
    "\n",
    "\n",
    "    # reverse a linked list\n",
    "    def reverse_list(self):\n",
    "        prev, currentNode = None, self.head\n",
    "        while currentNode:\n",
    "            nxt_element = currentNode.next\n",
    "            currentNode.next = prev\n",
    "            prev = currentNode\n",
    "            currentNode = nxt_element\n",
    "        self.head = prev\n",
    "\n",
    "\n",
    "    # size of linked list\n",
    "    def get_size(self):\n",
    "        currentNode = self.head \n",
    "        size = 0\n",
    "        while (currentNode):\n",
    "            size += 1\n",
    "            if currentNode.next == None:\n",
    "                print('None')\n",
    "                break\n",
    "            currentNode = currentNode.next\n",
    "        return f'Size is {size}'\n",
    "\n",
    "    # print the linked list\n",
    "    def print_node(self):\n",
    "        currentNode = self.head \n",
    "    # to print node from start to .. end it is must that self.head is first node ... only! \n",
    "        while (currentNode):\n",
    "            print(currentNode.data, '-> ', end = '')\n",
    "            if currentNode.next == None:\n",
    "                print('None')\n",
    "                break\n",
    "            currentNode = currentNode.next\n",
    "\n",
    "\n",
    "link_list = Linkedlist()\n",
    "link_list.insert_start(23)\n",
    "link_list.insert_end(34)\n",
    "# link_list.insert_start(2)\n",
    "link_list.insert_end(9)\n",
    "link_list.insert_end(90)\n",
    "# link_list.insert_at_index(23, 4)\n",
    "link_list.update_node(7, 1)\n",
    "\n",
    "# link_list.reverse_list()\n",
    "# link_list.del_last_node()\n",
    "# link_list.del_at_index(2)\n",
    "link_list.print_node()\n",
    "link_list.get_size()"
   ]
  },
  {
   "cell_type": "markdown",
   "metadata": {},
   "source": [
    "### Problem: Find mid of linked list"
   ]
  },
  {
   "cell_type": "code",
   "execution_count": 57,
   "metadata": {},
   "outputs": [
    {
     "name": "stdout",
     "output_type": "stream",
     "text": [
      "23 -> 34 -> 9 -> 7 -> None\n"
     ]
    },
    {
     "data": {
      "text/plain": [
       "9"
      ]
     },
     "execution_count": 57,
     "metadata": {},
     "output_type": "execute_result"
    }
   ],
   "source": [
    "\n",
    "class Node:\n",
    "    def __init__(self,data,next =None):\n",
    "        self.data = data\n",
    "        self.next = next\n",
    "\n",
    "class Solution:\n",
    "    def __init__(self,head=None):\n",
    "        self.head = head\n",
    " \n",
    "    # insert node at start\n",
    "    def insert_start(self, data):\n",
    "        new_node = Node(data)\n",
    "        if self.head == None:\n",
    "            self.head = new_node\n",
    "            return\n",
    "        else:\n",
    "            new_node.next = self.head\n",
    "            self.head = new_node\n",
    "    \n",
    "    # insert at end\n",
    "    def insert_end(self, data):\n",
    "        new_node = Node(data)\n",
    "        if self.head == None:\n",
    "            self.head = new_node\n",
    "            return \n",
    "        \n",
    "        currentNode = self.head # purana wala node 23\n",
    "\n",
    "        while(currentNode.next): # until current.next is None, it will run\n",
    "            currentNode = currentNode.next \n",
    "        currentNode.next = new_node\n",
    "    \n",
    "    #  Should return data of middle node. If linked list is empty, then  -1\n",
    "    def findMid(self):\n",
    "        size = 0\n",
    "        currentNode = self.head\n",
    "        while currentNode:\n",
    "            size += 1\n",
    "            if currentNode.next == None:\n",
    "                break\n",
    "            currentNode = currentNode.next\n",
    "            \n",
    "        currentNode = self.head    \n",
    "\n",
    "        if currentNode.next == None:\n",
    "            value = currentNode.data\n",
    "        else:\n",
    "            if size // 2 == 0:\n",
    "                n = (size // 2) + 1\n",
    "                position = 0\n",
    "            \n",
    "                while (currentNode != None and position+1 != n):\n",
    "                    position += 1\n",
    "                    currentNode = currentNode.next\n",
    "                if currentNode != None:\n",
    "                    currentNode = currentNode.next\n",
    "                    value = currentNode.data\n",
    "            else:\n",
    "                n = size // 2\n",
    "                position = 0\n",
    "            \n",
    "                while (currentNode != None and position +1 != n):\n",
    "                    position += 1\n",
    "                    currentNode = currentNode.next\n",
    "                if currentNode != None:\n",
    "                    currentNode = currentNode.next\n",
    "                    value = currentNode.data\n",
    "        return value\n",
    "    \n",
    "    # print the linked list\n",
    "    def print_node(self):\n",
    "        currentNode = self.head \n",
    "    # to print node from start to .. end it is must that self.head is first node ... only! \n",
    "        while (currentNode):\n",
    "            print(currentNode.data, '-> ', end = '')\n",
    "            if currentNode.next == None:\n",
    "                print('None')\n",
    "                break\n",
    "            currentNode = currentNode.next\n",
    "\n",
    "link_list = Solution()\n",
    "link_list.insert_start(23)\n",
    "link_list.insert_end(34)\n",
    "link_list.insert_end(9)\n",
    "# link_list.insert_end(90)\n",
    "link_list.insert_end(7)\n",
    "link_list.print_node()\n",
    "link_list.findMid()"
   ]
  },
  {
   "cell_type": "code",
   "execution_count": null,
   "metadata": {},
   "outputs": [],
   "source": [
    "class Solution:\n",
    "    #  Should return data of middle node. If linked list is empty, then  -1\n",
    "    def findMid(self, head):\n",
    "        # Code here\n",
    "        # return the value stored in the middle node\n",
    "        slow=head\n",
    "        fast=head\n",
    "        while fast and fast.next:\n",
    "            slow=slow.next\n",
    "            fast=fast.next.next\n",
    "        return slow.data"
   ]
  },
  {
   "cell_type": "markdown",
   "metadata": {},
   "source": [
    "### Problem: Detect loop in linked list\n",
    "O(N) time <br />\n",
    "O(1) space\n"
   ]
  },
  {
   "cell_type": "code",
   "execution_count": 6,
   "metadata": {},
   "outputs": [
    {
     "name": "stdout",
     "output_type": "stream",
     "text": [
      "34 -> 9 -> 90 -> 7 -> None\n"
     ]
    },
    {
     "data": {
      "text/plain": [
       "False"
      ]
     },
     "execution_count": 6,
     "metadata": {},
     "output_type": "execute_result"
    }
   ],
   "source": [
    "# 2 pointer ..method\n",
    "class Node:\n",
    "    def __init__(self,data,next =None):\n",
    "        self.data = data\n",
    "        self.next = next\n",
    "\n",
    "class Solution:\n",
    "    def __init__(self,head=None):\n",
    "        self.head = head\n",
    "\n",
    "    # insert \n",
    "    def insert_end(self, data):\n",
    "        new_node = Node(data)\n",
    "        if self.head == None:\n",
    "            self.head = new_node\n",
    "            return \n",
    "        \n",
    "        currentNode = self.head # purana wala node 23\n",
    "\n",
    "        while(currentNode.next): # until current.next is None, it will run\n",
    "            currentNode = currentNode.next \n",
    "        currentNode.next = new_node\n",
    "    \n",
    "\n",
    "    def detect_loop(self):\n",
    "        end_pointer = self.head\n",
    "        start_pointer = self.head\n",
    "        while start_pointer and end_pointer and end_pointer.next:\n",
    "            start_pointer = start_pointer.next\n",
    "            end_pointer = end_pointer.next.next\n",
    "            if start_pointer == end_pointer:\n",
    "                return True\n",
    "        return False\n",
    "\n",
    "\n",
    "    # print the linked list\n",
    "    def print_node(self):\n",
    "        currentNode = self.head \n",
    "    # to print node from start to .. end it is must that self.head is first node ... only! \n",
    "        while (currentNode):\n",
    "            print(currentNode.data, '-> ', end = '')\n",
    "            if currentNode.next == None:\n",
    "                print('None')\n",
    "                break\n",
    "            currentNode = currentNode.next\n",
    "\n",
    "link_list = Solution()\n",
    "link_list.insert_end(34)\n",
    "link_list.insert_end(9)\n",
    "link_list.insert_end(90)\n",
    "link_list.insert_end(7)\n",
    "link_list.print_node()\n",
    "link_list.detect_loop()"
   ]
  },
  {
   "cell_type": "code",
   "execution_count": 8,
   "metadata": {},
   "outputs": [
    {
     "name": "stdout",
     "output_type": "stream",
     "text": [
      "34 -> 9 -> 90 -> 7 -> None\n"
     ]
    },
    {
     "data": {
      "text/plain": [
       "False"
      ]
     },
     "execution_count": 8,
     "metadata": {},
     "output_type": "execute_result"
    }
   ],
   "source": [
    "# flagging method ...\n",
    "\n",
    "class Node:\n",
    "    def __init__(self,data,flag = 0,next =None):\n",
    "        self.data = data\n",
    "        self.next = next\n",
    "        self.flag = flag\n",
    "\n",
    "\n",
    "class Solution:\n",
    "    def __init__(self,head=None):\n",
    "        self.head = head\n",
    "\n",
    "    # insert \n",
    "    def insert_end(self, data):\n",
    "        new_node = Node(data)\n",
    "        if self.head == None:\n",
    "            self.head = new_node\n",
    "            return \n",
    "        \n",
    "        currentNode = self.head # purana wala node 23\n",
    "\n",
    "        while(currentNode.next): # until current.next is None, it will run\n",
    "            currentNode = currentNode.next \n",
    "        currentNode.next = new_node\n",
    "    \n",
    "\n",
    "    def detect_loop(self):\n",
    "        currentNode = self.head\n",
    "        while currentNode:\n",
    "            if currentNode.flag == 1:\n",
    "                return True\n",
    "            currentNode.flag = 1\n",
    "            currentNode = currentNode.next\n",
    "        return False\n",
    "\n",
    "\n",
    "    # print the linked list\n",
    "    def print_node(self):\n",
    "        currentNode = self.head \n",
    "    # to print node from start to .. end it is must that self.head is first node ... only! \n",
    "        while (currentNode):\n",
    "            print(currentNode.data, '-> ', end = '')\n",
    "            if currentNode.next == None:\n",
    "                print('None')\n",
    "                break\n",
    "            currentNode = currentNode.next\n",
    "\n",
    "link_list = Solution()\n",
    "link_list.insert_end(34)\n",
    "link_list.insert_end(9)\n",
    "link_list.insert_end(90)\n",
    "link_list.insert_end(7)\n",
    "link_list.print_node()\n",
    "link_list.detect_loop()"
   ]
  },
  {
   "cell_type": "markdown",
   "metadata": {},
   "source": [
    "### Problem: Count nodes in linkedlist"
   ]
  },
  {
   "cell_type": "code",
   "execution_count": 15,
   "metadata": {},
   "outputs": [
    {
     "name": "stdout",
     "output_type": "stream",
     "text": [
      "34  > 9  > 90  > 7  > 87  > None\n"
     ]
    },
    {
     "data": {
      "text/plain": [
       "5"
      ]
     },
     "execution_count": 15,
     "metadata": {},
     "output_type": "execute_result"
    }
   ],
   "source": [
    "class Node:\n",
    "    def __init__(self, data, next=None):\n",
    "        self.data = data\n",
    "        self.next = next\n",
    "\n",
    "class Solution:\n",
    "    def __init__(self,head= None):\n",
    "        self.head = head\n",
    "    \n",
    "    def insert_node(self, data):\n",
    "        new_node = Node(data)\n",
    "        if self.head == None:\n",
    "            self.head = new_node\n",
    "            return\n",
    "        currentNode = self.head\n",
    "        while(currentNode.next):\n",
    "            currentNode= currentNode.next\n",
    "        currentNode.next = new_node\n",
    "    \n",
    "    def print_node(self):\n",
    "        currentNode = self.head\n",
    "        while(currentNode):\n",
    "            print(currentNode.data, ' > ', end='')\n",
    "            if currentNode.next == None:\n",
    "                print('None')\n",
    "                break\n",
    "            currentNode = currentNode.next\n",
    "\n",
    "    def count_nodes(self):\n",
    "        currentNode = self.head\n",
    "        node_count = 1\n",
    "        while(currentNode.next):\n",
    "            node_count += 1\n",
    "            currentNode = currentNode.next\n",
    "    \n",
    "        return node_count\n",
    "\n",
    "\n",
    "\n",
    "link_list = Solution()\n",
    "link_list.insert_node(34)\n",
    "link_list.insert_node(9)\n",
    "link_list.insert_node(90)\n",
    "link_list.insert_node(7)\n",
    "link_list.insert_node(87)\n",
    "link_list.print_node()\n",
    "link_list.count_nodes()"
   ]
  },
  {
   "cell_type": "code",
   "execution_count": null,
   "metadata": {},
   "outputs": [],
   "source": []
  }
 ],
 "metadata": {
  "kernelspec": {
   "display_name": "Python 3",
   "language": "python",
   "name": "python3"
  },
  "language_info": {
   "codemirror_mode": {
    "name": "ipython",
    "version": 3
   },
   "file_extension": ".py",
   "mimetype": "text/x-python",
   "name": "python",
   "nbconvert_exporter": "python",
   "pygments_lexer": "ipython3",
   "version": "3.10.11"
  },
  "orig_nbformat": 4
 },
 "nbformat": 4,
 "nbformat_minor": 2
}
