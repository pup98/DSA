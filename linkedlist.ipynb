{
 "cells": [
  {
   "cell_type": "markdown",
   "metadata": {},
   "source": [
    "## Linked List"
   ]
  },
  {
   "cell_type": "markdown",
   "metadata": {},
   "source": [
    "A linked list is a linear data structure, in which the elements are not stored at contiguous memory locations. The elements in a linked list are linked using pointers as shown in the below image:"
   ]
  },
  {
   "cell_type": "markdown",
   "metadata": {},
   "source": [
    "* A Linked List is a linear data structure that is used to store a collection of data with the help of nodes. A linked list is made up of two items that are data and a reference to the next node. A reference to the next node is given with the help of pointers and data is the value of a node. Each node contains data and links to the other nodes. It is an ordered collection of data elements called a node and the linear order is maintained by pointers. It has an upper hand over the array as the number of nodes i.e. the size of the linked list is not fixed and can grow and shrink as and when required, unlike arrays. Some of the features of the linked list are as follows:\n",
    "* The consecutive elements are connected by pointers.\n",
    "* The size of a linked list is not fixed.\n",
    "* The last node of the linked list points to null.\n",
    "* Memory is not wasted but extra memory is consumed as it also uses pointers to keep track of the next successive node.\n",
    "* The entry point of a linked list is known as the head. "
   ]
  },
  {
   "cell_type": "markdown",
   "metadata": {},
   "source": [
    "## Applications of Linked Lists:\n",
    "* Linked Lists are used to implement stacks and queues.\n",
    "* It is used for the various representations of trees and graphs.\n",
    "* It is used in dynamic memory allocation( linked list of free blocks).\n",
    "* It is used for representing sparse matrices.\n",
    "* It is used for the manipulation of polynomials.\n",
    "* It is also used for performing arithmetic operations on long integers.\n",
    "* It is used for finding paths in networks.\n",
    "* In operating systems, they can be used in Memory management, process scheduling and file system.\n",
    "* Linked lists can be used to improve the performance of algorithms that need to frequently insert or delete items from large collections of data.\n",
    "* Implementing algorithms such as the LRU cache, which uses a linked list to keep track of the most recently used items in a cache."
   ]
  },
  {
   "cell_type": "markdown",
   "metadata": {},
   "source": [
    "## Advantages of Linked Lists:\n",
    "Linked lists are a popular data structure in computer science, and have a number of advantages over other data structures, such as arrays. Some of the key advantages of linked lists are:\n",
    "\n",
    "* Dynamic size: Linked lists do not have a fixed size, so you can add or remove elements as needed, without having to worry about the size of the list. This makes linked lists a great choice when you need to work with a collection of items whose size can change dynamically.\n",
    "* Efficient Insertion and Deletion: Inserting or deleting elements in a linked list is fast and efficient, as you only need to modify the reference of the next node, which is an O(1) operation.\n",
    "* Memory Efficiency: Linked lists use only as much memory as they need, so they are more efficient with memory compared to arrays, which have a fixed size and can waste memory if not all elements are used.\n",
    "* Easy to Implement: Linked lists are relatively simple to implement and understand compared to other data structures like trees and graphs.\n",
    "* Flexibility: Linked lists can be used to implement various abstract data types, such as stacks, queues, and associative arrays.\n",
    "* Easy to navigate: Linked lists can be easily traversed, making it easier to find specific elements or perform operations on the list.\n",
    "* In conclusion, linked lists are a powerful and flexible data structure that have a number of advantages over other data structures, making them a great choice for solving many data structure and algorithm problems."
   ]
  },
  {
   "cell_type": "markdown",
   "metadata": {},
   "source": [
    "## Disadvantages of Linked Lists:\n",
    "Linked lists are a popular data structure in computer science, but like any other data structure, they have certain disadvantages as well. Some of the key disadvantages of linked lists are:\n",
    "\n",
    "* Slow Access Time: Accessing elements in a linked list can be slow, as you need to traverse the linked list to find the element you are looking for, which is an O(n) operation. This makes linked lists a poor choice for situations where you need to access elements quickly.\n",
    "* Pointers: Linked lists use pointers to reference the next node, which can make them more complex to understand and use compared to arrays. This complexity can make linked lists more difficult to debug and maintain.\n",
    "* Higher overhead: Linked lists have a higher overhead compared to arrays, as each node in a linked list requires extra memory to store the reference to the next node.\n",
    "* Cache Inefficiency: Linked lists are cache-inefficient because the memory is not contiguous. This means that when you traverse a linked list, you are not likely to get the data you need in the cache, leading to cache misses and slow performance.\n",
    "* Extra memory required: Linked lists require an extra pointer for each node, which takes up extra memory. This can be a problem when you are working with large data sets, as the extra memory required for the pointers can quickly add up."
   ]
  },
  {
   "cell_type": "code",
   "execution_count": 8,
   "metadata": {},
   "outputs": [
    {
     "name": "stdout",
     "output_type": "stream",
     "text": [
      "3 --> 4 --> 45 --> None\n"
     ]
    }
   ],
   "source": [
    "'''One way,  is more manual'''\n",
    "\n",
    "# we define a data structure to store nodes and respective structure\n",
    "class Node: \n",
    "    def __init__(self, data = None, nextNode = None):\n",
    "        self.data = data\n",
    "        self.nextNode = nextNode\n",
    "\n",
    "node1 = Node('3') # value: 3, nextnode : None\n",
    "node2 = Node('4')  # value: 4, nextnode : None\n",
    "node3 = Node('45')  # value: 45, nextnode : None\n",
    "\n",
    "node1.nextNode = node2 # nextnode : node2\n",
    "node2.nextNode = node3 # nextnode : node3\n",
    "\n",
    "def print_linkedList(node):\n",
    "    while node:\n",
    "        print(node.data, '--> ', end= '')\n",
    "        if node.nextNode is None:\n",
    "            print(node.nextNode)\n",
    "            break\n",
    "        node = node.nextNode\n",
    "\n",
    "print_linkedList(node1)"
   ]
  },
  {
   "cell_type": "code",
   "execution_count": 1,
   "metadata": {},
   "outputs": [
    {
     "name": "stdout",
     "output_type": "stream",
     "text": [
      "None\n"
     ]
    },
    {
     "ename": "AttributeError",
     "evalue": "'str' object has no attribute 'next'",
     "output_type": "error",
     "traceback": [
      "\u001b[1;31m---------------------------------------------------------------------------\u001b[0m",
      "\u001b[1;31mAttributeError\u001b[0m                            Traceback (most recent call last)",
      "\u001b[1;32mf:\\My_Disk\\python\\DSA\\linkedlist.ipynb Cell 8\u001b[0m in \u001b[0;36m<cell line: 60>\u001b[1;34m()\u001b[0m\n\u001b[0;32m     <a href='vscode-notebook-cell:/f%3A/My_Disk/python/DSA/linkedlist.ipynb#X10sZmlsZQ%3D%3D?line=57'>58</a>\u001b[0m list1\u001b[39m.\u001b[39minsert(\u001b[39m'\u001b[39m\u001b[39m23\u001b[39m\u001b[39m'\u001b[39m)\n\u001b[0;32m     <a href='vscode-notebook-cell:/f%3A/My_Disk/python/DSA/linkedlist.ipynb#X10sZmlsZQ%3D%3D?line=58'>59</a>\u001b[0m list1\u001b[39m.\u001b[39mpush_start(\u001b[39m'\u001b[39m\u001b[39m67\u001b[39m\u001b[39m'\u001b[39m)\n\u001b[1;32m---> <a href='vscode-notebook-cell:/f%3A/My_Disk/python/DSA/linkedlist.ipynb#X10sZmlsZQ%3D%3D?line=59'>60</a>\u001b[0m list1\u001b[39m.\u001b[39;49minsertAfter(\u001b[39m'\u001b[39;49m\u001b[39m23\u001b[39;49m\u001b[39m'\u001b[39;49m, \u001b[39m'\u001b[39;49m\u001b[39m80\u001b[39;49m\u001b[39m'\u001b[39;49m)\n\u001b[0;32m     <a href='vscode-notebook-cell:/f%3A/My_Disk/python/DSA/linkedlist.ipynb#X10sZmlsZQ%3D%3D?line=60'>61</a>\u001b[0m list1\u001b[39m.\u001b[39mprintLinkedlist()\n",
      "\u001b[1;32mf:\\My_Disk\\python\\DSA\\linkedlist.ipynb Cell 8\u001b[0m in \u001b[0;36mLinkedList.insertAfter\u001b[1;34m(self, prev_element, data)\u001b[0m\n\u001b[0;32m     <a href='vscode-notebook-cell:/f%3A/My_Disk/python/DSA/linkedlist.ipynb#X10sZmlsZQ%3D%3D?line=38'>39</a>\u001b[0m     \u001b[39mreturn\u001b[39;00m\n\u001b[0;32m     <a href='vscode-notebook-cell:/f%3A/My_Disk/python/DSA/linkedlist.ipynb#X10sZmlsZQ%3D%3D?line=39'>40</a>\u001b[0m node \u001b[39m=\u001b[39m Node(data)\n\u001b[1;32m---> <a href='vscode-notebook-cell:/f%3A/My_Disk/python/DSA/linkedlist.ipynb#X10sZmlsZQ%3D%3D?line=40'>41</a>\u001b[0m node\u001b[39m.\u001b[39mnextNode \u001b[39m=\u001b[39m prev_element\u001b[39m.\u001b[39;49mnext\n\u001b[0;32m     <a href='vscode-notebook-cell:/f%3A/My_Disk/python/DSA/linkedlist.ipynb#X10sZmlsZQ%3D%3D?line=41'>42</a>\u001b[0m prev_element\u001b[39m.\u001b[39mnext \u001b[39m=\u001b[39m node\n",
      "\u001b[1;31mAttributeError\u001b[0m: 'str' object has no attribute 'next'"
     ]
    }
   ],
   "source": [
    "'''More convienient way ....'''\n",
    "\n",
    "class Node: \n",
    "    def __init__(self, data = None, nextNode = None): # has 2 class variables data and nextnode\n",
    "        self.data = data\n",
    "        self.nextNode = nextNode\n",
    "\n",
    "class LinkedList:\n",
    "    def __init__(self, head = None):\n",
    "        self.head = head # initialize self.head to none\n",
    "    \n",
    "    def insert(self, data):\n",
    "        node = Node(data) # Initialize the node object with the data\n",
    "        \n",
    "        # for the first element self.head = None\n",
    "        if self.head is None: \n",
    "            self.head = node #  then initialize first element with node created\n",
    "            return \n",
    "        \n",
    "        currentNode = self.head # save the first element as current node\n",
    "        # for 2nd element and after that, will start from below\n",
    "        \n",
    "        while True:\n",
    "            if currentNode.nextNode is None: # means if nextnode is the last element\n",
    "                currentNode.nextNode = node\n",
    "                break\n",
    "            currentNode = currentNode.nextNode\n",
    "    \n",
    "    # insert an element at start ....\n",
    "    def push_start(self, data):\n",
    "        node = Node(data)\n",
    "        node.nextNode = self.head # Make next of new Node as head\n",
    "        self.head = node # Move the head to point to new Node\n",
    "\n",
    "    \n",
    "    def insertAfter(self, prev_element, data):\n",
    "        if prev_element is None:\n",
    "            print(\"The given previous node must inLinkedList.\")\n",
    "            return\n",
    "        node = Node(data)\n",
    "        node.nextNode = prev_element.next\n",
    "        prev_element.next = node\n",
    " \n",
    "\n",
    "    def printLinkedlist(self):\n",
    "        currentNode = self.head\n",
    "        while currentNode is not None:\n",
    "            print(currentNode.data, ' > ', end= '')\n",
    "            currentNode = currentNode.nextNode\n",
    "        print('None')\n",
    "\n",
    "\n",
    "\n",
    "list1 = LinkedList()\n",
    "list1.printLinkedlist()\n",
    "list1.insert('34')\n",
    "list1.insert('98')\n",
    "list1.insert('23')\n",
    "list1.push_start('67')\n",
    "list1.insertAfter('23', '80')\n",
    "list1.printLinkedlist()\n"
   ]
  }
 ],
 "metadata": {
  "kernelspec": {
   "display_name": "Python 3",
   "language": "python",
   "name": "python3"
  },
  "language_info": {
   "codemirror_mode": {
    "name": "ipython",
    "version": 3
   },
   "file_extension": ".py",
   "mimetype": "text/x-python",
   "name": "python",
   "nbconvert_exporter": "python",
   "pygments_lexer": "ipython3",
   "version": "3.10.11"
  },
  "orig_nbformat": 4
 },
 "nbformat": 4,
 "nbformat_minor": 2
}
