{
 "cells": [
  {
   "cell_type": "markdown",
   "metadata": {},
   "source": [
    "## Bubble Sort"
   ]
  },
  {
   "cell_type": "markdown",
   "metadata": {},
   "source": [
    "Time Complexity: O(N2)\n",
    "\n",
    "\n",
    "Advantages of Bubble Sort:\n",
    "* Bubble sort is easy to understand and implement.\n",
    "* It does not require any additional memory space.\n",
    "* It is a stable sorting algorithm, meaning that elements with the same key value maintain their relative order in the sorted output.\n",
    "\n",
    "Disadvantages of Bubble Sort:\n",
    "* Bubble sort has a time complexity of O(N2) which makes it very slow for large data sets.\n",
    "* Bubble sort is a comparison-based sorting algorithm, which means that it requires a comparison operator to determine the relative order of elements in the input data set. It can limit the efficiency of the algorithm in certain cases."
   ]
  },
  {
   "cell_type": "markdown",
   "metadata": {},
   "source": [
    "In this algorithm, \n",
    "\n",
    "* traverse from left and compare adjacent elements and the higher one is placed at right side. \n",
    "* In this way, the largest element is moved to the rightmost end at first. \n",
    "* This process is then continued to find the second largest and place it and so on until the data is sorted."
   ]
  },
  {
   "cell_type": "code",
   "execution_count": null,
   "metadata": {},
   "outputs": [],
   "source": [
    "def bubbleSort(arr):\n",
    "    n = len(arr)\n",
    " \n",
    "    # Traverse through all array elements\n",
    "    for i in range(n):\n",
    " \n",
    "        # Last i elements are already in place\n",
    "        for j in range(0, n-i-1):\n",
    " \n",
    "            # traverse the array from 0 to n-i-1\n",
    "            # Swap if the element found is greater\n",
    "            # than the next element\n",
    "            if arr[j] > arr[j+1]:\n",
    "              temp = arr[j]\n",
    "              arr[j] = arr[j+1]\n",
    "              arr[j+1] = temp\n",
    "\n",
    "arr = [64, 34, 2, 90]\n",
    "\n",
    "bubbleSort(arr)\n",
    "print(arr)"
   ]
  },
  {
   "cell_type": "markdown",
   "metadata": {},
   "source": [
    "# Quicksort\n"
   ]
  },
  {
   "cell_type": "code",
   "execution_count": null,
   "metadata": {},
   "outputs": [],
   "source": [
    "def partition(array, low, high):\n",
    "    pivot = array[low]\n",
    "    start = low + 1 # bcz first element is pivot ...\n",
    "    end = high\n",
    "\n",
    "    while True:\n",
    "        # find start and end index to swap\n",
    "        while start <= end and array[end] >= pivot:\n",
    "            end -= 1\n",
    "        while start <= end and array[start] <= pivot:\n",
    "            start += 1\n",
    "        \n",
    "        if start <= end:\n",
    "            array[start], array[end] = array[end], array[start]\n",
    "        else:\n",
    "            break\n",
    "    # swap position of pivot! to it's exact position\n",
    "    array[low], array[end] = array[end], array[low]\n",
    "  \n",
    "    return end\n",
    "\n",
    "def quick_sort(array, low, high):\n",
    "    if low < high: \n",
    "        position = partition(array, low, high)\n",
    "        quick_sort(array, low, position -1)\n",
    "        quick_sort(array, position+1, high)\n",
    "    \n",
    "array = [17, 6, 10, 5, 9, 2, 1, 15, 7]\n",
    "quick_sort(array, 0, len(array)-1)\n",
    "print(array)"
   ]
  },
  {
   "cell_type": "markdown",
   "metadata": {},
   "source": [
    "## Merge Sort\n",
    "complexity: O(n log n)"
   ]
  },
  {
   "cell_type": "code",
   "execution_count": 18,
   "metadata": {},
   "outputs": [
    {
     "name": "stdout",
     "output_type": "stream",
     "text": [
      "i> 4  j> 1\n"
     ]
    },
    {
     "data": {
      "text/plain": [
       "[34, 5, 9, 35, 80, 95, 6, 78, 9, 10]"
      ]
     },
     "execution_count": 18,
     "metadata": {},
     "output_type": "execute_result"
    }
   ],
   "source": [
    "def merge_sort(subarr1, subarr2):\n",
    "    sorted_list = []\n",
    "    len_1 = len(subarr1)\n",
    "    len_2 = len(subarr2)\n",
    "    i = j = 0\n",
    "\n",
    "    while i < len_1 and j < len_2:\n",
    "        if subarr1[i] <= subarr2[j]:\n",
    "            sorted_list.append(subarr1[i])\n",
    "            i+=1\n",
    "        else: \n",
    "            sorted_list.append(subarr2[j])\n",
    "            j+=1\n",
    "\n",
    "    print('i>', i, ' j>', j)\n",
    "    # means upper while block ... will run until the len of any smaller array\n",
    "    # thus we would miss the elements of bigger array if present, therefore below block  ....\n",
    "    # it runs till all the elements of all arrays\n",
    "    \n",
    "    while i < len_1:\n",
    "        sorted_list.append(subarr1[i])\n",
    "        i += 1\n",
    "    while j < len_2:\n",
    "        sorted_list.append(subarr2[j])\n",
    "        j += 1\n",
    "    return sorted_list\n",
    "        \n",
    "arr = [34, 5, 9, 80]\n",
    "arr2  = [35,95,6,78,9,10]\n",
    "merge_sort(arr,arr2)"
   ]
  },
  {
   "cell_type": "code",
   "execution_count": 2,
   "metadata": {},
   "outputs": [
    {
     "data": {
      "text/plain": [
       "[6, 9, 10, 35, 78, 95]"
      ]
     },
     "execution_count": 2,
     "metadata": {},
     "output_type": "execute_result"
    }
   ],
   "source": [
    "# Full algorithm\n",
    "\n",
    "def divide_arr(arr):\n",
    "    if len(arr) <= 1:\n",
    "        return arr\n",
    "    mid = len(arr) // 2\n",
    "    left = arr[:mid]\n",
    "    right = arr[mid:]\n",
    "\n",
    "    left = divide_arr(left)\n",
    "    right = divide_arr(right)\n",
    "\n",
    "    return merge_sort(left, right)\n",
    "\n",
    "def merge_sort(subarr1, subarr2):\n",
    "    sorted_list = []\n",
    "    len_1 = len(subarr1)\n",
    "    len_2 = len(subarr2)\n",
    "    i = j = 0\n",
    "\n",
    "    while i < len_1 and j < len_2:\n",
    "        if subarr1[i] <= subarr2[j]:\n",
    "            sorted_list.append(subarr1[i])\n",
    "            i+=1\n",
    "        else: \n",
    "            sorted_list.append(subarr2[j])\n",
    "            j+=1\n",
    "\n",
    "    while i < len_1:\n",
    "        sorted_list.append(subarr1[i])\n",
    "        i += 1\n",
    "    while j < len_2:\n",
    "        sorted_list.append(subarr2[j])\n",
    "        j += 1\n",
    "    return sorted_list\n",
    "        \n",
    "arr2  = [35,95,6,78,9,10]\n",
    "divide_arr(arr2)"
   ]
  }
 ],
 "metadata": {
  "kernelspec": {
   "display_name": "Python 3",
   "language": "python",
   "name": "python3"
  },
  "language_info": {
   "codemirror_mode": {
    "name": "ipython",
    "version": 3
   },
   "file_extension": ".py",
   "mimetype": "text/x-python",
   "name": "python",
   "nbconvert_exporter": "python",
   "pygments_lexer": "ipython3",
   "version": "3.10.11"
  },
  "orig_nbformat": 4
 },
 "nbformat": 4,
 "nbformat_minor": 2
}
