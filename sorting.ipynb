{
 "cells": [
  {
   "cell_type": "markdown",
   "metadata": {},
   "source": [
    "## Bubble Sort"
   ]
  },
  {
   "cell_type": "markdown",
   "metadata": {},
   "source": [
    "Time Complexity: O(N2)\n",
    "\n",
    "\n",
    "Advantages of Bubble Sort:\n",
    "* Bubble sort is easy to understand and implement.\n",
    "* It does not require any additional memory space.\n",
    "* It is a stable sorting algorithm, meaning that elements with the same key value maintain their relative order in the sorted output.\n",
    "\n",
    "Disadvantages of Bubble Sort:\n",
    "* Bubble sort has a time complexity of O(N2) which makes it very slow for large data sets.\n",
    "* Bubble sort is a comparison-based sorting algorithm, which means that it requires a comparison operator to determine the relative order of elements in the input data set. It can limit the efficiency of the algorithm in certain cases."
   ]
  },
  {
   "cell_type": "markdown",
   "metadata": {},
   "source": [
    "In this algorithm, \n",
    "\n",
    "* traverse from left and compare adjacent elements and the higher one is placed at right side. \n",
    "* In this way, the largest element is moved to the rightmost end at first. \n",
    "* This process is then continued to find the second largest and place it and so on until the data is sorted."
   ]
  },
  {
   "cell_type": "code",
   "execution_count": null,
   "metadata": {},
   "outputs": [],
   "source": [
    "def bubbleSort(arr):\n",
    "    n = len(arr)\n",
    " \n",
    "    # Traverse through all array elements\n",
    "    for i in range(n):\n",
    " \n",
    "        # Last i elements are already in place\n",
    "        for j in range(0, n-i-1):\n",
    " \n",
    "            # traverse the array from 0 to n-i-1\n",
    "            # Swap if the element found is greater\n",
    "            # than the next element\n",
    "            if arr[j] > arr[j+1]:\n",
    "              temp = arr[j]\n",
    "              arr[j] = arr[j+1]\n",
    "              arr[j+1] = temp\n",
    "\n",
    "arr = [64, 34, 2, 90]\n",
    "\n",
    "bubbleSort(arr)\n",
    "\n",
    "print(\"Sorted array is: \", end = '')\n",
    "for i in range(len(arr)):\n",
    "    print(arr[i], end=\" \")\n"
   ]
  },
  {
   "cell_type": "markdown",
   "metadata": {},
   "source": [
    "# Quicksort\n"
   ]
  },
  {
   "cell_type": "code",
   "execution_count": 23,
   "metadata": {},
   "outputs": [
    {
     "name": "stdout",
     "output_type": "stream",
     "text": [
      "[1, 2, 5, 6, 7, 7, 9, 10, 15]\n"
     ]
    }
   ],
   "source": [
    "def partition(array, low, high):\n",
    "    pivot = array[low]\n",
    "    start = low + 1 # bcz first element is pivot ...\n",
    "    end = high\n",
    "\n",
    "    while True:\n",
    "        # find start and end index to swap\n",
    "        while start <= end and array[end] >= pivot:\n",
    "            end -= 1\n",
    "        while start <= end and array[start] <= pivot:\n",
    "            start += 1\n",
    "        \n",
    "        if start <= end:\n",
    "            array[start], array[end] = array[end], array[start]\n",
    "        else:\n",
    "            break\n",
    "    # swap position of pivot! to it's exact position\n",
    "    array[low], array[end] = array[end], array[low]\n",
    "  \n",
    "    return end\n",
    "\n",
    "def quick_sort(array, low, high):\n",
    "    if low < high:\n",
    "        position = partition(array, low, high)\n",
    "        quick_sort(array, low, position -1)\n",
    "        quick_sort(array, position+1, high)\n",
    "    \n",
    "array = [7, 6, 10, 5, 9, 2, 1, 15, 7]\n",
    "quick_sort(array, 0, len(array)-1)\n",
    "print(array)    "
   ]
  }
 ],
 "metadata": {
  "kernelspec": {
   "display_name": "Python 3",
   "language": "python",
   "name": "python3"
  },
  "language_info": {
   "codemirror_mode": {
    "name": "ipython",
    "version": 3
   },
   "file_extension": ".py",
   "mimetype": "text/x-python",
   "name": "python",
   "nbconvert_exporter": "python",
   "pygments_lexer": "ipython3",
   "version": "3.10.11"
  },
  "orig_nbformat": 4
 },
 "nbformat": 4,
 "nbformat_minor": 2
}
