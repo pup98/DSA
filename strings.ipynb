{
 "cells": [
  {
   "cell_type": "code",
   "execution_count": 1,
   "metadata": {},
   "outputs": [
    {
     "name": "stdout",
     "output_type": "stream",
     "text": [
      "['g', 'gf', 'gfg', 'f', 'fg', 'g']\n"
     ]
    }
   ],
   "source": [
    "str = 'gfg'\n",
    "res = [str[i:j] for i in range(len(str)) for j in range(i+1, len(str)+1)]\n",
    "# all substrings of a string\n",
    "print(res)"
   ]
  },
  {
   "cell_type": "code",
   "execution_count": null,
   "metadata": {},
   "outputs": [],
   "source": [
    "def find_k_substring(str, k):\n",
    "    unique_list = ['']\n",
    "    for i in range(0, len(str)):\n",
    "        for k in range(0, len(str) -1):\n",
    "            unique_list.append(str[k:i+k+1])\n",
    "    return unique_list\n",
    "\n",
    "str = 'gfg'\n",
    "k = 3\n",
    "find_k_substring(str, k)"
   ]
  },
  {
   "cell_type": "code",
   "execution_count": 2,
   "metadata": {},
   "outputs": [
    {
     "data": {
      "text/plain": [
       "'ukjk'"
      ]
     },
     "execution_count": 2,
     "metadata": {},
     "output_type": "execute_result"
    }
   ],
   "source": [
    "def find_unique(str, k):\n",
    "    if len(str) >= k:\n",
    "        unique_list = []\n",
    "        for i in str:\n",
    "            if i in unique_list:\n",
    "                    pass\n",
    "            else:\n",
    "                unique_list.append(i)\n",
    "        if len(unique_list) == k:\n",
    "            return str\n",
    "find_unique('ukjk',3)"
   ]
  },
  {
   "cell_type": "markdown",
   "metadata": {},
   "source": [
    "### Problem: Number of distinct substrings"
   ]
  },
  {
   "cell_type": "code",
   "execution_count": 6,
   "metadata": {},
   "outputs": [
    {
     "data": {
      "text/plain": [
       "['g', 'gf', 'gfg', 'f', 'fg', 'g']"
      ]
     },
     "execution_count": 6,
     "metadata": {},
     "output_type": "execute_result"
    }
   ],
   "source": [
    "# brute force ... \n",
    "def find_k_substring(str, k):\n",
    "    res = [str[i:j] for i in range(len(str)) for j in range(i+1, len(str)+1)]\n",
    "    unique_list = \n",
    "    for element in res:\n",
    "        if element in unique_list:\n",
    "                pass\n",
    "        else:\n",
    "            unique_list.append(element)\n",
    "    return res\n",
    "\n",
    "str = 'gfg'\n",
    "k = 3\n",
    "find_k_substring(str, k)"
   ]
  },
  {
   "cell_type": "code",
   "execution_count": 9,
   "metadata": {},
   "outputs": [
    {
     "data": {
      "text/plain": [
       "['', 'g', 'f', 'gf', 'fg', 'gfg', 'fg']"
      ]
     },
     "execution_count": 9,
     "metadata": {},
     "output_type": "execute_result"
    }
   ],
   "source": [
    "def find_k_substring(str, k):\n",
    "    unique_list = ['']\n",
    "    for i in range(0, len(str)):\n",
    "        for k in range(0, len(str) -1):\n",
    "            unique_list.append(str[k:i+k+1])\n",
    "    return unique_list\n",
    "\n",
    "str = 'gfg'\n",
    "k = 3\n",
    "find_k_substring(str, k)"
   ]
  },
  {
   "cell_type": "code",
   "execution_count": 10,
   "metadata": {},
   "outputs": [
    {
     "data": {
      "text/plain": [
       "{'', 'f', 'fg', 'g', 'gf', 'gfg'}"
      ]
     },
     "execution_count": 10,
     "metadata": {},
     "output_type": "execute_result"
    }
   ],
   "source": [
    "def find_k_substring(str, k):\n",
    "    unique_list = {''}\n",
    "    for i in range(0, len(str)):\n",
    "        for k in range(0, len(str) -1):\n",
    "            unique_list.add(str[k:i+k+1])\n",
    "    return unique_list\n",
    "\n",
    "str = 'gfg'\n",
    "k = 3\n",
    "find_k_substring(str, k)"
   ]
  },
  {
   "cell_type": "markdown",
   "metadata": {},
   "source": [
    "### Problem: Palindrome"
   ]
  },
  {
   "cell_type": "code",
   "execution_count": 27,
   "metadata": {},
   "outputs": [
    {
     "data": {
      "text/plain": [
       "1"
      ]
     },
     "execution_count": 27,
     "metadata": {},
     "output_type": "execute_result"
    }
   ],
   "source": [
    "def palindrom(str):\n",
    "    if str == str[::-1]:\n",
    "        return 1\n",
    "    else:\n",
    "        return 0\n",
    "palindrom('sdfds')"
   ]
  },
  {
   "cell_type": "markdown",
   "metadata": {},
   "source": [
    "### Problem: Reverse words in a given string\n",
    "S = i.like.this.program.very.much <br />\n",
    "Output: much.very.program.this.like.i <br />\n",
    "Explanation: After reversing the whole<br />\n",
    "string(not individual words), the input<br />\n",
    "string becomes<br />\n",
    "much.very.program.this.like.i"
   ]
  },
  {
   "cell_type": "code",
   "execution_count": 33,
   "metadata": {},
   "outputs": [
    {
     "data": {
      "text/plain": [
       "'much.very.program.this.like.i'"
      ]
     },
     "execution_count": 33,
     "metadata": {},
     "output_type": "execute_result"
    }
   ],
   "source": [
    "def reverse_word(str):\n",
    "    res = str.split('.')[::-1]\n",
    "    res_string = ''\n",
    "    for element in res:\n",
    "        res_string += element+'.'\n",
    "    output = res_string[:-1]\n",
    "    return output\n",
    "reverse_word('i.like.this.program.very.much')"
   ]
  },
  {
   "cell_type": "markdown",
   "metadata": {},
   "source": [
    "### Problem: Remove Duplicates\n",
    "O(n) time <br />\n",
    "O(n) space"
   ]
  },
  {
   "cell_type": "code",
   "execution_count": 62,
   "metadata": {},
   "outputs": [
    {
     "data": {
      "text/plain": [
       "'ujwal'"
      ]
     },
     "execution_count": 62,
     "metadata": {},
     "output_type": "execute_result"
    }
   ],
   "source": [
    "def remove_duplicate(str):\n",
    "    res = ''\n",
    "    for element in str:\n",
    "        if element in res:\n",
    "            pass\n",
    "        else:\n",
    "            res += element\n",
    "    return res\n",
    "\n",
    "remove_duplicate('ujjwal')"
   ]
  },
  {
   "cell_type": "code",
   "execution_count": 61,
   "metadata": {},
   "outputs": [
    {
     "data": {
      "text/plain": [
       "['u',\n",
       " 'h',\n",
       " 'g',\n",
       " 'x',\n",
       " 's',\n",
       " 'r',\n",
       " 't',\n",
       " 'q',\n",
       " 'i',\n",
       " 'p',\n",
       " 'm',\n",
       " 'd',\n",
       " 'y',\n",
       " 'l',\n",
       " 'n',\n",
       " 'f',\n",
       " 'w',\n",
       " 'e',\n",
       " 'c',\n",
       " 'k',\n",
       " 'z',\n",
       " 'o',\n",
       " 'a']"
      ]
     },
     "execution_count": 61,
     "metadata": {},
     "output_type": "execute_result"
    }
   ],
   "source": [
    "def remove_duplicate(str):\n",
    "    res = []\n",
    "    res_dub = []\n",
    "    for element in str:\n",
    "        if element in res:\n",
    "            if element not in res_dub:\n",
    "                res_dub += element\n",
    "            # print(res)\n",
    "        else:\n",
    "            res += element\n",
    "    if res:\n",
    "        for element in res:\n",
    "           if element in res_dub:\n",
    "               res.remove(element)\n",
    "        return res\n",
    "    else: \n",
    "        return -1\n",
    "\n",
    "remove_duplicate('uhgxusrtgqitrtpiuqxmpdmyumdputxumlxnrnfwgeuslwdysxhucykkmzfdourroagoan')"
   ]
  }
 ],
 "metadata": {
  "kernelspec": {
   "display_name": "Python 3",
   "language": "python",
   "name": "python3"
  },
  "language_info": {
   "codemirror_mode": {
    "name": "ipython",
    "version": 3
   },
   "file_extension": ".py",
   "mimetype": "text/x-python",
   "name": "python",
   "nbconvert_exporter": "python",
   "pygments_lexer": "ipython3",
   "version": "3.10.11"
  }
 },
 "nbformat": 4,
 "nbformat_minor": 2
}
