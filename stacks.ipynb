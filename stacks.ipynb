{
 "cells": [
  {
   "cell_type": "markdown",
   "metadata": {},
   "source": [
    "## Implementation using list:"
   ]
  },
  {
   "cell_type": "code",
   "execution_count": 1,
   "metadata": {},
   "outputs": [
    {
     "name": "stdout",
     "output_type": "stream",
     "text": [
      "Inital stack: [37, 67, 87, 70]\n",
      "Element popped:  70\n",
      "Stack after popping [37, 67, 87]\n",
      "Element popped:  87\n",
      "Stack after popping [37, 67]\n",
      "Element popped:  67\n",
      "Stack after popping [37]\n",
      "Element popped:  37\n",
      "Stack after popping []\n"
     ]
    }
   ],
   "source": [
    "stack = []\n",
    "stack.append(37)\n",
    "stack.append(67)\n",
    "stack.append(87)\n",
    "stack.append(70)\n",
    "print('Inital stack:', stack)\n",
    "\n",
    "print('Element popped: ', stack.pop())\n",
    "print('Stack after popping',stack)\n",
    "\n",
    "print('Element popped: ', stack.pop())\n",
    "print('Stack after popping',stack)\n",
    "\n",
    "print('Element popped: ', stack.pop())\n",
    "print('Stack after popping',stack)\n",
    "\n",
    "print('Element popped: ', stack.pop())\n",
    "print('Stack after popping',stack)"
   ]
  },
  {
   "cell_type": "markdown",
   "metadata": {},
   "source": [
    "## Implementation using collections.deque:\n",
    "Deque (Doubly Ended Queue) is preferred over a list in the cases where we need quicker append <br />\n",
    "and pop operations from both the ends of the container, as deque provides an O(1) time complexity <br />for append and pop operations as compared to a list that provides O(n) time complexity.\n",
    "- append():- This function is used to insert the value in its argument to the right end of the deque.\n",
    "- appendleft():- This function is used to insert the value in its argument to the left end of the deque.\n",
    "- pop():- This function is used to delete an argument from the right end of the deque.\n",
    "- popleft():- This function is used to delete an argument from the left end of the deque.\n",
    "- len(dequeue):- Return the current size of the dequeue.\n",
    "<br /> All have O(1) complexity\n",
    "<br />\n",
    "<br />\n",
    "- index(ele, beg, end):- returns the first index of the value mentioned in arguments, starting searching from beg till end index.\n",
    "- insert(i, a) :- inserts the value mentioned in arguments(a) at index(i) specified in arguments.\n",
    "- remove():- This function removes the first occurrence of the value mentioned in arguments.\n",
    "- count():- This function counts the number of occurrences of value mentioned in arguments.\n",
    "- reverse():- This function is used to reverse the order of deque elements.\n",
    "- We can index a deque like a list \n",
    "<br /> All have O(n) complexity\n",
    "<br />\n",
    "<br />\n",
    "- extend(iterable):- This function is used to add multiple values at the right end of the deque. The argument passed is iterable. extend(list)\n",
    "- extendleft(iterable):- This function is used to add multiple values at the left end of the deque. The argument passed is iterable. Order is reversed as a result of left appends.\n",
    "- rotate():- This function rotates the deque by the number specified in arguments. If the number specified is negative, rotation occurs to the left. Else rotation is to right."
   ]
  },
  {
   "cell_type": "code",
   "execution_count": 2,
   "metadata": {},
   "outputs": [
    {
     "name": "stdout",
     "output_type": "stream",
     "text": [
      "Inital stack: deque([37, 67, 87, 70])\n",
      "Element popped:  70\n",
      "Stack after popping deque([37, 67, 87])\n",
      "Element popped:  87\n",
      "Stack after popping deque([37, 67])\n",
      "Element popped:  67\n",
      "Stack after popping deque([37])\n",
      "Element popped:  37\n",
      "Stack after popping deque([])\n"
     ]
    }
   ],
   "source": [
    "from collections import deque\n",
    "stack = deque()\n",
    "\n",
    "stack.append(37)\n",
    "stack.append(67)\n",
    "stack.append(87)\n",
    "stack.append(70)\n",
    "print('Inital stack:', stack)\n",
    "\n",
    "print('Element popped: ', stack.pop())\n",
    "print('Stack after popping',stack)\n",
    "\n",
    "print('Element popped: ', stack.pop())\n",
    "print('Stack after popping',stack)\n",
    "\n",
    "print('Element popped: ', stack.pop())\n",
    "print('Stack after popping',stack)\n",
    "\n",
    "print('Element popped: ', stack.pop())\n",
    "print('Stack after popping',stack)"
   ]
  },
  {
   "cell_type": "code",
   "execution_count": 5,
   "metadata": {},
   "outputs": [
    {
     "name": "stdout",
     "output_type": "stream",
     "text": [
      "Inital stack: deque([37, 67, 87, 70])\n",
      "37\n",
      "67\n",
      "87\n",
      "70\n"
     ]
    }
   ],
   "source": [
    "# We can index a deque like a list ...\n",
    "stack = deque()\n",
    "\n",
    "stack.append(37)\n",
    "stack.append(67)\n",
    "stack.append(87)\n",
    "stack.append(70)\n",
    "print('Inital stack:', stack)\n",
    "\n",
    "for i in range(len(stack)): \n",
    "    print(stack[i])"
   ]
  },
  {
   "cell_type": "markdown",
   "metadata": {},
   "source": [
    "### Problem: Reverse a String using Stack"
   ]
  },
  {
   "cell_type": "code",
   "execution_count": 102,
   "metadata": {},
   "outputs": [
    {
     "name": "stdout",
     "output_type": "stream",
     "text": [
      "loohcs\n"
     ]
    }
   ],
   "source": [
    "def reverse_stack(str):\n",
    "    stack = []\n",
    "    for i in str:\n",
    "        stack.append(i)\n",
    "    \n",
    "    reverse_str = ''\n",
    "    while stack:\n",
    "        reverse_str += stack.pop()\n",
    "    return reverse_str\n",
    "\n",
    "result = reverse_stack('school')\n",
    "print(result)"
   ]
  },
  {
   "cell_type": "markdown",
   "metadata": {},
   "source": [
    "### Problem: Delete middle element of a stack\n",
    "Expected Auxiliary Space and time: O(N)\n"
   ]
  },
  {
   "cell_type": "code",
   "execution_count": 34,
   "metadata": {},
   "outputs": [
    {
     "data": {
      "text/plain": [
       "[12, 6, 8, 9, 9, 11, 5, 5, 9, 6, 11]"
      ]
     },
     "execution_count": 34,
     "metadata": {},
     "output_type": "execute_result"
    }
   ],
   "source": [
    "# Given a stack, delete the middle element of the stack without using any additional data structure\n",
    "# Recurssion\n",
    "\n",
    "def delete_helper(stack, count, pos):\n",
    "    if (not stack ):\n",
    "        return\n",
    "    if (count == pos):\n",
    "        stack.pop() # removes the .. mid element\n",
    "        return \n",
    "    x = stack[len(stack)-1] # if last element is not mid, then store it and remove it\n",
    "    stack.pop()\n",
    "    # print(count)\n",
    "    # print(stack, '----')\n",
    "\n",
    "    delete_helper(stack, count+1, pos)\n",
    "    stack.append(x)\n",
    "    # print(stack, '/////')\n",
    "\n",
    "def get_mid(stack, n):\n",
    "    pos = n//2\n",
    "    count = 0\n",
    "    delete_helper(stack,count,pos)\n",
    "    return stack\n",
    "\n",
    "# l = [1,2,3,4,5,6,8]\n",
    "l = [12 ,6 ,8 ,9 ,9 ,5 ,11 ,5 ,5 ,9 ,6 ,11]\n",
    "n = len(l)\n",
    "get_mid(l,n)"
   ]
  },
  {
   "cell_type": "code",
   "execution_count": 35,
   "metadata": {},
   "outputs": [
    {
     "data": {
      "text/plain": [
       "[1, 2, 3, 5, 6, 7]"
      ]
     },
     "execution_count": 35,
     "metadata": {},
     "output_type": "execute_result"
    }
   ],
   "source": [
    "# using a stack to delete middle element of given stack\n",
    "\n",
    "def deleteMid(stack):\n",
    "    n = len(stack)\n",
    "    count= 0\n",
    "    temp_stack = []\n",
    "    # print(n/2-1)\n",
    "    while (count < n/2-1): # count < 2.5\n",
    "        element = stack[0]\n",
    "        temp_stack.insert(0, element)\n",
    "        stack.pop(0)\n",
    "        # print(count)\n",
    "        count += 1\n",
    "        # 1 | [1]     | [2,3,4,5,6,7] | count = 1\n",
    "        # 2 | [2,1]   | [3,4,5,6,7] | count = 2\n",
    "        # 3 | [3,2,1] | [4,5,6,7] | count = 3\n",
    "       \n",
    "    # temp_stack = [3,2,1]\n",
    "    # stack = [4,5,6,7]\n",
    "    # print(temp_stack)\n",
    "    # print(stack)\n",
    "    stack.pop(0)\n",
    "    # print(stack)\n",
    "    # stack = [5,6,7]\n",
    "    while len(temp_stack) != 0:\n",
    "        stack.insert(0, temp_stack[0])\n",
    "        temp_stack.pop(0)\n",
    "\n",
    "    return stack\n",
    "\n",
    "stack= [1,2,3,4,5,6,7]\n",
    "deleteMid(stack)\n"
   ]
  }
 ],
 "metadata": {
  "kernelspec": {
   "display_name": "Python 3",
   "language": "python",
   "name": "python3"
  },
  "language_info": {
   "codemirror_mode": {
    "name": "ipython",
    "version": 3
   },
   "file_extension": ".py",
   "mimetype": "text/x-python",
   "name": "python",
   "nbconvert_exporter": "python",
   "pygments_lexer": "ipython3",
   "version": "3.10.11"
  },
  "orig_nbformat": 4
 },
 "nbformat": 4,
 "nbformat_minor": 2
}
