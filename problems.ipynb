{
 "cells": [
  {
   "cell_type": "code",
   "execution_count": 6,
   "metadata": {},
   "outputs": [
    {
     "name": "stdout",
     "output_type": "stream",
     "text": [
      "97821\n"
     ]
    }
   ],
   "source": [
    "# Reverse a number\n",
    "num = 12879\n",
    "reverse = 0\n",
    "while num!= 0:\n",
    "    reverse = reverse * 10 + num%10\n",
    "    num = num//10\n",
    "print(reverse)"
   ]
  },
  {
   "cell_type": "code",
   "execution_count": null,
   "metadata": {},
   "outputs": [],
   "source": [
    "'''Reverse a string'''\n",
    "# there is no built in method to reverse a string in python\n",
    "def string(str):\n",
    "    new = ''\n",
    "    l = len(str)\n",
    "    while l > 0:\n",
    "        new = new + str[l-1]\n",
    "        l = l - 1\n",
    "    return new"
   ]
  },
  {
   "cell_type": "code",
   "execution_count": 2,
   "metadata": {},
   "outputs": [
    {
     "name": "stdout",
     "output_type": "stream",
     "text": [
      "dam si lawjju\n"
     ]
    }
   ],
   "source": [
    "string = \"ujjwal is mad\"\n",
    "str = string[::-1]\n",
    "print(str)\n"
   ]
  },
  {
   "cell_type": "code",
   "execution_count": 3,
   "metadata": {},
   "outputs": [
    {
     "name": "stdout",
     "output_type": "stream",
     "text": [
      "['why', 'are', 'u', 'sda']\n"
     ]
    }
   ],
   "source": [
    "str = 'why are u sda'\n",
    "list = str.split(\" \")\n",
    "print(list)"
   ]
  },
  {
   "cell_type": "code",
   "execution_count": 19,
   "metadata": {},
   "outputs": [
    {
     "name": "stdout",
     "output_type": "stream",
     "text": [
      "fib series\n",
      "0 1 1 2 3 5 8 13 "
     ]
    }
   ],
   "source": [
    "# fib series : Recursion\n",
    "first = 0\n",
    "second = 1\n",
    "\n",
    "def fib(num):\n",
    "    if num == 0:\n",
    "        return 0\n",
    "    elif num == 1:\n",
    "        return 1\n",
    "    else:\n",
    "        return fib(num-1)+fib(num-2)\n",
    "print(\"fib series\")\n",
    "n= 8\n",
    "for i in range(n):\n",
    "    print(fib(i), end= \" \")"
   ]
  },
  {
   "cell_type": "code",
   "execution_count": 1,
   "metadata": {},
   "outputs": [
    {
     "name": "stdout",
     "output_type": "stream",
     "text": [
      "0 1 1 2 3 5 8 13 "
     ]
    }
   ],
   "source": [
    "# Fib series using flow control\n",
    "first = 0\n",
    "second = 1\n",
    "n = 8\n",
    "for i in range(0, n):\n",
    "    if i <= 1:\n",
    "        result = i\n",
    "    else:\n",
    "        result = first + second\n",
    "        first = second\n",
    "        second = result\n",
    "    print(result, end=\" \")\n"
   ]
  },
  {
   "cell_type": "code",
   "execution_count": 2,
   "metadata": {},
   "outputs": [
    {
     "name": "stdout",
     "output_type": "stream",
     "text": [
      "120\n"
     ]
    }
   ],
   "source": [
    "# Factorial\n",
    "n = 5\n",
    "fac = 1\n",
    "\n",
    "for i in range(1, n+1):\n",
    "    fac = fac * i\n",
    "print(fac)"
   ]
  },
  {
   "cell_type": "code",
   "execution_count": 4,
   "metadata": {},
   "outputs": [
    {
     "name": "stdout",
     "output_type": "stream",
     "text": [
      "120\n"
     ]
    }
   ],
   "source": [
    "# Factorial using recursion\n",
    "def fac(n):\n",
    "    if n == 1:\n",
    "        return n\n",
    "    else:\n",
    "        return n * fac(n-1)\n",
    "    return fac(n-1) \n",
    "print(fac(5))"
   ]
  },
  {
   "cell_type": "markdown",
   "metadata": {},
   "source": [
    "#### Problem\n",
    "Find the number of elements which are greater than their adjacent elements in a 2D array"
   ]
  },
  {
   "cell_type": "code",
   "execution_count": 2,
   "metadata": {},
   "outputs": [
    {
     "name": "stdout",
     "output_type": "stream",
     "text": [
      "There are 3 elements as per the problem statement: [11, 27, 9]\n"
     ]
    }
   ],
   "source": [
    "def isValidPos(i, j, n, m):\n",
    " \n",
    "    if (i < 0 or j < 0 or i > n - 1 or j > m - 1):\n",
    "        return 0\n",
    "    return 1\n",
    " \n",
    " \n",
    "# Function that returns all adjacent elements\n",
    "def getAdjacent(arr):\n",
    " \n",
    "    # Size of given 2d array\n",
    "    n = len(arr)\n",
    "    m = len(arr[0])\n",
    "    dominant_cell = []\n",
    "\n",
    "    for i in range(0, n):\n",
    "        for j in range(0,m):\n",
    " \n",
    "        # Initialising a vector array\n",
    "        # where adjacent element will be stored\n",
    "            v = []\n",
    "        \n",
    "            # Checking for all the possible adjacent positions\n",
    "            if (isValidPos(i - 1, j - 1, n, m)):\n",
    "                v.append(arr[i - 1][j - 1])\n",
    "\n",
    "            if (isValidPos(i - 1, j, n, m)):\n",
    "                v.append(arr[i - 1][j])\n",
    "\n",
    "            if (isValidPos(i - 1, j + 1, n, m)):\n",
    "                v.append(arr[i - 1][j + 1])\n",
    "\n",
    "            if (isValidPos(i, j - 1, n, m)):\n",
    "                v.append(arr[i][j - 1])\n",
    "\n",
    "            if (isValidPos(i, j + 1, n, m)):\n",
    "                v.append(arr[i][j + 1])\n",
    "\n",
    "            if (isValidPos(i + 1, j - 1, n, m)):\n",
    "                v.append(arr[i + 1][j - 1])\n",
    "\n",
    "            if (isValidPos(i + 1, j, n, m)):\n",
    "                v.append(arr[i + 1][j])\n",
    "\n",
    "            if (isValidPos(i + 1, j + 1, n, m)):\n",
    "                v.append(arr[i + 1][j + 1])\n",
    "        \n",
    "            # Returning the vector\n",
    "            element = arr[i][j]\n",
    "            if element > max(v):\n",
    "                dominant_cell.append(element)\n",
    "    return dominant_cell\n",
    "\n",
    " \n",
    " \n",
    "# Driver Code\n",
    "if __name__ == \"__main__\":\n",
    " \n",
    "    # Given vector array\n",
    "    arr = [[11, 2, 3],\n",
    "           [4, 5, 6],\n",
    "           [27, 8, 9]]\n",
    "    # x, y = 2,0 \n",
    "    # Function call\n",
    "    ans = getAdjacent(arr)\n",
    "    print(f'There are {len(ans)} elements as per the problem statement: {ans}')"
   ]
  }
 ],
 "metadata": {
  "kernelspec": {
   "display_name": "Python 3.9.2 64-bit",
   "language": "python",
   "name": "python3"
  },
  "language_info": {
   "codemirror_mode": {
    "name": "ipython",
    "version": 3
   },
   "file_extension": ".py",
   "mimetype": "text/x-python",
   "name": "python",
   "nbconvert_exporter": "python",
   "pygments_lexer": "ipython3",
   "version": "3.9.2"
  },
  "orig_nbformat": 4,
  "vscode": {
   "interpreter": {
    "hash": "d816a64555e2e6c17bf4c4f5776e26edc6eefc166129356d4718ae49e1c8c667"
   }
  }
 },
 "nbformat": 4,
 "nbformat_minor": 2
}
