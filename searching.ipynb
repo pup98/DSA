{
 "cells": [
  {
   "cell_type": "markdown",
   "metadata": {},
   "source": [
    "## Linear Search"
   ]
  },
  {
   "cell_type": "markdown",
   "metadata": {},
   "source": [
    "* Linear search can be used irrespective of whether the array is sorted or not. \n",
    "* It can be used on arrays of any data type.\n",
    "* Does not require any additional memory.\n",
    "* It is a well-suited algorithm for small datasets."
   ]
  },
  {
   "cell_type": "code",
   "execution_count": 6,
   "metadata": {},
   "outputs": [
    {
     "name": "stdout",
     "output_type": "stream",
     "text": [
      "Element found at index: 4\n"
     ]
    }
   ],
   "source": [
    "'''Unsorteed array\n",
    "In an unsorted array, the search operation can be performed by \n",
    "linear traversal from the first element to the last element'''\n",
    "\n",
    "'''Time complexity: O(n)'''\n",
    "def linear_search(value, array):\n",
    "    for i in range(len(array)):\n",
    "        if array[i] == value:\n",
    "            return i\n",
    "    return 0\n",
    "\n",
    "array = [23, 45, 3, 67, 78]\n",
    "value = 67\n",
    "\n",
    "index = linear_search(value, array)\n",
    "if index != 0:\n",
    "    print('Element found at index:',str(index+1))\n",
    "else:\n",
    "    print('Not present in the array')\n"
   ]
  },
  {
   "cell_type": "markdown",
   "metadata": {},
   "source": [
    "## Binary search"
   ]
  },
  {
   "cell_type": "code",
   "execution_count": 7,
   "metadata": {},
   "outputs": [
    {
     "name": "stdout",
     "output_type": "stream",
     "text": [
      "Element is at index: 3\n"
     ]
    }
   ],
   "source": [
    "\n",
    "'''Time Complexity of Search Operation: O(Log n) [Using Binary Search]'''\n",
    "def binary_search(array, value, low, high):\n",
    "    mid_index = (low+high)//2\n",
    "\n",
    "    if value == array[mid_index]:\n",
    "        return mid_index\n",
    "    \n",
    "    elif value > array[mid_index]:\n",
    "        return binary_search(array, value, (mid_index+1), high)\n",
    "    \n",
    "    elif value < array[mid_index]:\n",
    "        return binary_search(array, value, low, (mid_index-1))\n",
    "\n",
    "array = [34, 56, 78, 90, 112]\n",
    "n = len(array)\n",
    "value = 90\n",
    "# below we have used int because it the function gives floating point object \n",
    "# then it would be changed to only its integer value .... \n",
    "print('Element is at index:', int(binary_search(array, value, 0, n-1)))"
   ]
  },
  {
   "cell_type": "code",
   "execution_count": 8,
   "metadata": {},
   "outputs": [
    {
     "name": "stdout",
     "output_type": "stream",
     "text": [
      "Element found at index 1\n"
     ]
    }
   ],
   "source": [
    "'''Binary search using iterative approach '''\n",
    "def binarySearch(nums, target):\n",
    " \n",
    "    # search space is nums[left…right]\n",
    "    (left, right) = (0, len(nums) - 1)\n",
    " \n",
    "    # loop till the search space is exhausted\n",
    "    while left <= right:\n",
    " \n",
    "        # find the mid-value in the search space and\n",
    "        # compares it with the target\n",
    " \n",
    "        mid = (left + right) // 2\n",
    " \n",
    "        # overflow can happen. Use:\n",
    "        # mid = left + (right - left) / 2\n",
    "        # mid = right - (right - left) // 2\n",
    " \n",
    "        # target is found\n",
    "        if target == nums[mid]:\n",
    "            return mid\n",
    " \n",
    "        # discard all elements in the right search space,\n",
    "        # including the middle element\n",
    "        elif target < nums[mid]:\n",
    "            right = mid - 1\n",
    " \n",
    "        # discard all elements in the left search space,\n",
    "        # including the middle element\n",
    "        else:\n",
    "            left = mid + 1\n",
    " \n",
    "    # `target` doesn't exist in the list\n",
    "    return -1\n",
    " \n",
    " \n",
    "if __name__ == '__main__':\n",
    " \n",
    "    nums = [2, 5, 6, 8, 9, 10]\n",
    "    target = 5\n",
    " \n",
    "    index = binarySearch(nums, target)\n",
    " \n",
    "    if index != -1:\n",
    "        print('Element found at index', index)\n",
    "    else:\n",
    "        print('Element found not in the list')"
   ]
  },
  {
   "cell_type": "markdown",
   "metadata": {},
   "source": [
    "## Insert and delete "
   ]
  },
  {
   "cell_type": "code",
   "execution_count": 9,
   "metadata": {},
   "outputs": [
    {
     "name": "stdout",
     "output_type": "stream",
     "text": [
      "Before: [2, 34, 5, 67]\n",
      "Array: [2, 5, 67]\n"
     ]
    }
   ],
   "source": [
    "''' Unnsorted array\n",
    "And in an unsorted array, the insert operation is faster as compared to the sorted array because\n",
    " we dont have to care about the position at which the element to be placed.\n",
    "Insert at end or delete any element'''\n",
    "'''Time complexity: O(1) for insert\n",
    "Time complexity: O(n) for delete as it has to find the element that is to be deleted '''\n",
    "\n",
    "def insert(array, value):\n",
    "    # array.append(value)\n",
    "    array.remove(value)\n",
    "\n",
    "array = [2, 34, 5, 67]\n",
    "# value = 89\n",
    "value = 34\n",
    "print('Before:', array)\n",
    "var = insert(array, value)\n",
    "print('Array:', array)"
   ]
  },
  {
   "cell_type": "code",
   "execution_count": 10,
   "metadata": {},
   "outputs": [
    {
     "name": "stdout",
     "output_type": "stream",
     "text": [
      "Before inserting: \n",
      "3 56 67 88 \n",
      "After inserting: \n",
      "3 56 60 67 88 "
     ]
    }
   ],
   "source": [
    "'''Sorted array , Insert any element \n",
    "In a sorted array, a search operation is performed for the possible position \n",
    "of the given element by using Binary search and then\n",
    "insert operation is performed followed by shifting the elements\n",
    "Time Complexity of Insert Operation: O(n) [In the worst case all elements may have to be moved] '''\n",
    "\n",
    "def insert_sorted(array, n, value):\n",
    "    # finds the index of element less than the value,\n",
    "    # after this element we will insert our value \n",
    "    position = 0\n",
    "    for i in range(n):\n",
    "        if array[i] < value:\n",
    "            position += 1\n",
    "        else:\n",
    "            break\n",
    "        # return position\n",
    "        \n",
    "    j = n-1 # as index of list is till 3, n is the total length is 4\n",
    "    while j >= position:\n",
    "        array[j+1] = array[j] # next equals the previous .. going in right\n",
    "        j -= 1 \n",
    "    \n",
    "    array[position] = value\n",
    "    n  = n+1 # since length of our array has increased by one so \n",
    "    return n\n",
    "\n",
    "array = [3, 56, 67, 88]\n",
    "value = 60\n",
    "n = 4\n",
    "\n",
    "for i in range(1): # we increase the length of array for the number of elements we want to add \n",
    "    array.append(0)\n",
    "\n",
    "print(\"Before inserting: \")\n",
    "for i in range(n):\n",
    "    print(array[i], end = \" \")\n",
    "\n",
    "new_length = insert_sorted(array, n, value)\n",
    "\n",
    "print(\"\\nAfter inserting: \")\n",
    "for i in range(new_length):\n",
    "    print(array[i], end = \" \")"
   ]
  },
  {
   "cell_type": "code",
   "execution_count": 11,
   "metadata": {},
   "outputs": [
    {
     "name": "stdout",
     "output_type": "stream",
     "text": [
      "Before deleting\n",
      "3 45 67 89 90 112 456 \n",
      "After deleting\n",
      "3 45 89 90 112 456 "
     ]
    }
   ],
   "source": [
    "'''Deleting elemets from a sorted array, \n",
    "First we find the element using binary search and then delete it followed by shifting of elements \n",
    "Time Complexity of Delete Operation: O(n) [In the worst case all elements may have to be moved]'''\n",
    "\n",
    "# Searching the element \n",
    "\n",
    "def binary_search(array, value, low, high):\n",
    "    # this function returns the position of the element that is to be removed !\n",
    "    mid = (low + high)//2\n",
    "    \n",
    "    if value == array[mid]:\n",
    "        return mid\n",
    "    elif value > array[mid]:\n",
    "        return binary_search(array, value, (mid+1), high)\n",
    "    elif value < array[mid]:\n",
    "        return binary_search(array, value, low, (mid-1))\n",
    "\n",
    "\n",
    "def delete(array, n, value):\n",
    "    position = binary_search(array, value, 0, n-1) # searching from 0 to the last inde(n-1)\n",
    "\n",
    "    for i in range(position, n-1): \n",
    "        # for a length of array n, and element m, total substitutions = n-m\n",
    "        # here we have n = 7, m = 3, total subs = 4\n",
    "        # so, range is from 2 to 5: 2,3,4,5 ... n-1= 6, 6 is exclusive so \n",
    "        array[i] = array[i+1] # present one equals next... gooing in left direction\n",
    "\n",
    "    return n-1 # as size has decerased by removing one element \n",
    "\n",
    "array = [3,45,67,89,90,112,456]\n",
    "n = len(array)\n",
    "value = 67\n",
    "\n",
    "print('Before deleting')\n",
    "for i in  range(n):\n",
    "    print(array[i], end=\" \")\n",
    "\n",
    "new_index = delete(array, n, value)\n",
    "\n",
    "print('\\nAfter deleting')\n",
    "for i in range(new_index):\n",
    "    print(array[i], end=\" \")"
   ]
  }
 ],
 "metadata": {
  "kernelspec": {
   "display_name": "Python 3",
   "language": "python",
   "name": "python3"
  },
  "language_info": {
   "codemirror_mode": {
    "name": "ipython",
    "version": 3
   },
   "file_extension": ".py",
   "mimetype": "text/x-python",
   "name": "python",
   "nbconvert_exporter": "python",
   "pygments_lexer": "ipython3",
   "version": "3.11.5"
  },
  "orig_nbformat": 4
 },
 "nbformat": 4,
 "nbformat_minor": 2
}
