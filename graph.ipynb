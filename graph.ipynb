{
 "cells": [
  {
   "cell_type": "markdown",
   "metadata": {},
   "source": [
    "### Graphs\n",
    "- In graph there can be more than one path i.e. graph can have uni-directional or bi-directional paths between nodes.\n",
    "- In graph there is no such concept of root node.\n",
    "- Graph can have loops, circuits as well as can have self-loops.\n",
    "- In Graph there is no such parent child relationship.\n",
    "- Graphs are more complex in compare to trees as it can have cycles, loops etc.\n",
    "- Graph is traversed by DFS : Depth First Search and in BFS : Breadth First Search algorithm.\n",
    "- Graph can be Cyclic or Acyclic.\n",
    "- There are mainly two types of Graphs : Directed and Undirected graphs.\n",
    "- Graph applications : Coloring of maps, algorithms, Graph coloring, job scheduling etc.\n",
    "- In Graph, no. of edges depend on the graph.\n",
    "- Graph is a network model."
   ]
  },
  {
   "cell_type": "markdown",
   "metadata": {},
   "source": [
    "### Breadth First Search algorithm"
   ]
  },
  {
   "cell_type": "code",
   "execution_count": 17,
   "metadata": {},
   "outputs": [
    {
     "name": "stdout",
     "output_type": "stream",
     "text": [
      "6 -> 4 -> 8 -> 3 -> 5 -> 9 -> "
     ]
    },
    {
     "data": {
      "text/plain": [
       "6"
      ]
     },
     "execution_count": 17,
     "metadata": {},
     "output_type": "execute_result"
    }
   ],
   "source": [
    "graph = {\n",
    "    '6':['4','8'],\n",
    "    '4':['3','5'],\n",
    "    '8':['9'],\n",
    "    '3': [],\n",
    "    '5':['9'],\n",
    "    '9':[]\n",
    "}\n",
    "\n",
    "def bfs(graph, node):\n",
    "    queue = []\n",
    "    visited_node = [] \n",
    "    visited_node.append(node)\n",
    "    queue.append(node)\n",
    "\n",
    "    while queue:\n",
    "        # print(queue, end = ' -> ')\n",
    "        x = queue.pop(0)\n",
    "        print(x, end= \" -> \")\n",
    "        \n",
    "        for neighbour_node in graph[x]:\n",
    "            if neighbour_node not in visited_node:\n",
    "                visited_node.append(neighbour_node)\n",
    "                queue.append(neighbour_node)\n",
    "                \n",
    "bfs(graph, '6')"
   ]
  },
  {
   "cell_type": "markdown",
   "metadata": {},
   "source": [
    "### Tree (special case of graph): \n",
    "An undirected graph in which any two vertices are connected by exactly one path, or equivalently a connected acyclic undirected graph. \n",
    "\n",
    "- Tree is special form of graph i.e. minimally connected graph and having only one path between any two vertices.\n",
    "- Tree is a special case of graph having no loops, no circuits and no self-loops.\n",
    "- In tree there is exactly one root node and every child have only one parent.\n",
    "- In trees, there is parent child relationship so flow can be there with direction top to bottom or vice versa.\n",
    "- Trees are less complex then graphs as having no cycles, no self-loops and still connected.\n",
    "Tree traversal is a kind of special case of traversal of graph. Tree is traversed in Pre-Order, In-Order and Post-Order ( all three in DFS or in BFS algorithm)\n",
    "- Trees come in the category of DAG : Directed Acyclic Graphs is a kind of directed graph that have no cycles.\n",
    "- Different types of trees are : Binary Tree , Binary Search Tree, AVL tree, Heaps.\n",
    "Tree applications: sorting and searching like Tree Traversal & Binary Search."
   ]
  },
  {
   "cell_type": "code",
   "execution_count": 22,
   "metadata": {},
   "outputs": [
    {
     "name": "stdout",
     "output_type": "stream",
     "text": [
      "6 -> 4 -> 8 -> 3 -> 5 -> 7 -> 9 -> "
     ]
    }
   ],
   "source": [
    "# Binary Tree, bfs using dictionary\n",
    "graph = {\n",
    "    '6':['4','8'],\n",
    "    '4':['3','5'],\n",
    "    '8':['7','9'],\n",
    "    '3':[],\n",
    "    '5':[],\n",
    "    '7':[],\n",
    "    '9':[]\n",
    "}\n",
    "\n",
    "def bfs(graph, node):\n",
    "    visited_node = []\n",
    "    queue = []\n",
    "    visited_node.append(node)\n",
    "    queue.append(node)\n",
    "\n",
    "    while queue:\n",
    "        x = queue.pop(0)\n",
    "        print(x, end=' -> ')\n",
    "\n",
    "        for child_node in graph[x]:\n",
    "            if child_node not in visited_node:\n",
    "                visited_node.append(child_node)\n",
    "                queue.append(child_node)\n",
    "bfs(graph, '6')"
   ]
  },
  {
   "cell_type": "code",
   "execution_count": 36,
   "metadata": {},
   "outputs": [
    {
     "name": "stdout",
     "output_type": "stream",
     "text": [
      "InOrder Traversal of binary tree is -> 4 2 5 1 3 "
     ]
    }
   ],
   "source": [
    "# DFS using Nodes\n",
    "class Node(): \n",
    "    def __init__(self, data): \n",
    "        self.data = data\n",
    "        self.left = None\n",
    "        self.right = None\n",
    "    \n",
    "def inorder_traversal(node):\n",
    "    if (not node):\n",
    "        return\n",
    "    inorder_traversal(node.left) \n",
    "    print(node.data,end = \" \")\n",
    "    inorder_traversal(node.right) \n",
    "        \n",
    "\n",
    "root = Node(1)\n",
    "root.left = Node(2)\n",
    "root.right = Node(3)\n",
    "root.left.left = Node(4)\n",
    "root.left.right = Node(5)\n",
    "\n",
    "print(\"InOrder Traversal of binary tree is\", end=\" -> \")\n",
    "inorder_traversal(root)"
   ]
  },
  {
   "cell_type": "code",
   "execution_count": 35,
   "metadata": {},
   "outputs": [
    {
     "name": "stdout",
     "output_type": "stream",
     "text": [
      "Level Order Traversal of binary tree is -> 1 2 3 4 5 "
     ]
    }
   ],
   "source": [
    "# BFS using Nodes:\n",
    "class Node(): \n",
    "    def __init__(self, data): \n",
    "        self.data = data\n",
    "        self.left = None\n",
    "        self.right = None\n",
    "\n",
    "def LevelOrder(root):\n",
    "    # Base Case\n",
    "    if root is None:\n",
    "        return\n",
    "    queue = []\n",
    "    queue.append(root)\n",
    " \n",
    "    while queue:\n",
    "        node = queue.pop(0)\n",
    "        print(node.data, end=\" \")\n",
    "\n",
    "        if node.left is not None:\n",
    "            queue.append(node.left)\n",
    "\n",
    "        if node.right is not None:\n",
    "            queue.append(node.right)\n",
    "\n",
    "root = Node(1)\n",
    "root.left = Node(2)\n",
    "root.right = Node(3)\n",
    "root.left.left = Node(4)\n",
    "root.left.right = Node(5)\n",
    "\n",
    "print(\"Level Order Traversal of binary tree is\", end=\" -> \")\n",
    "LevelOrder(root)"
   ]
  },
  {
   "cell_type": "markdown",
   "metadata": {},
   "source": [
    "### Inorder traversal (DFS), add element to binary tree"
   ]
  },
  {
   "cell_type": "code",
   "execution_count": 40,
   "metadata": {},
   "outputs": [
    {
     "name": "stdout",
     "output_type": "stream",
     "text": [
      "Inorder traversal before insertion: 7 11 10 15 9 8 \n",
      "Inorder traversal after insertion: 7 11 12 10 15 9 8 "
     ]
    }
   ],
   "source": [
    "class newNode(): \n",
    "    def __init__(self, data): \n",
    "        self.data = data\n",
    "        self.left = None\n",
    "        self.right = None\n",
    "         \n",
    "\"\"\" Inorder traversal of a binary tree\"\"\"\n",
    "def inorder(node):\n",
    "    if (not node):\n",
    "        return\n",
    "    inorder(node.left) \n",
    "    print(node.data,end = \" \")\n",
    "    inorder(node.right) \n",
    " \n",
    "\"\"\"function to insert element in binary tree \"\"\"\n",
    "def insert(node,data):\n",
    "    if not node:\n",
    "        root = newNode(data)\n",
    "        return\n",
    "    queue = [] \n",
    "    queue.append(node) \n",
    " \n",
    "    # Do level order traversal until we find an empty place. \n",
    "    while queue: \n",
    "        node = queue[0] \n",
    "        queue.pop(0) \n",
    " \n",
    "        if (not node.left):\n",
    "            node.left = newNode(data) \n",
    "            break\n",
    "        else:\n",
    "            queue.append(node.left) \n",
    " \n",
    "        if (not node.right):\n",
    "            node.right = newNode(data) \n",
    "            break\n",
    "        else:\n",
    "            queue.append(node.right) \n",
    "     \n",
    "root = newNode(10) \n",
    "root.left = newNode(11) \n",
    "root.left.left = newNode(7) \n",
    "root.right = newNode(9) \n",
    "root.right.left = newNode(15) \n",
    "root.right.right = newNode(8) \n",
    "\n",
    "print(\"Inorder traversal before insertion:\", end = \" \")\n",
    "inorder(root) \n",
    "\n",
    "data = 12\n",
    "insert(root, data) \n",
    "print() \n",
    "print(\"Inorder traversal after insertion:\", end = \" \")\n",
    "inorder(root)"
   ]
  }
 ],
 "metadata": {
  "kernelspec": {
   "display_name": "Python 3",
   "language": "python",
   "name": "python3"
  },
  "language_info": {
   "codemirror_mode": {
    "name": "ipython",
    "version": 3
   },
   "file_extension": ".py",
   "mimetype": "text/x-python",
   "name": "python",
   "nbconvert_exporter": "python",
   "pygments_lexer": "ipython3",
   "version": "3.10.11"
  }
 },
 "nbformat": 4,
 "nbformat_minor": 2
}
