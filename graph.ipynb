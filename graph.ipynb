{
 "cells": [
  {
   "cell_type": "code",
   "execution_count": 6,
   "metadata": {},
   "outputs": [
    {
     "name": "stdout",
     "output_type": "stream",
     "text": [
      "['6']\n",
      "6 ['4', '8']\n",
      "4 ['8', '3', '5']\n",
      "8 ['3', '5', '9']\n",
      "3 ['5', '9']\n",
      "5 ['9']\n",
      "9 "
     ]
    }
   ],
   "source": [
    "graph = {\n",
    "    '6':['4','8'],\n",
    "    '4':['3','5'],\n",
    "    '8':['9'],\n",
    "    '3': [],\n",
    "    '5':['9'],\n",
    "    '9':[]\n",
    "}\n",
    "\n",
    "def bfs(graph, node):\n",
    "    queue = []\n",
    "    visited_node = []\n",
    "    visited_node.append(node)\n",
    "    queue.append(node)\n",
    "\n",
    "    while queue:\n",
    "        print(queue)\n",
    "        x = queue.pop(0)\n",
    "        print(x, end= \" \")\n",
    "\n",
    "        for neighbour_node in graph[x]:\n",
    "            if neighbour_node not in visited_node:\n",
    "                visited_node.append(neighbour_node)\n",
    "                queue.append(neighbour_node)\n",
    "\n",
    "\n",
    "bfs(graph, '6')"
   ]
  }
 ],
 "metadata": {
  "kernelspec": {
   "display_name": "Python 3",
   "language": "python",
   "name": "python3"
  },
  "language_info": {
   "codemirror_mode": {
    "name": "ipython",
    "version": 3
   },
   "file_extension": ".py",
   "mimetype": "text/x-python",
   "name": "python",
   "nbconvert_exporter": "python",
   "pygments_lexer": "ipython3",
   "version": "3.10.11"
  }
 },
 "nbformat": 4,
 "nbformat_minor": 2
}
