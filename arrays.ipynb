{
 "cells": [
  {
   "cell_type": "markdown",
   "metadata": {},
   "source": [
    "# Arrays\n",
    "```\n",
    "An array is a collection of items stored at contiguous memory locations. The idea is to store multiple items of the same type together. This makes it easier to calculate the position of each element by simply adding an offset to a base value, i.e., the memory location of the first element of the array (generally denoted by the name of the array). The base value is index 0 and the difference between the two indexes is the offset.\n",
    "For simplicity, we can think of an array as a fleet of stairs where on each step is placed a value (let’s say one of your friends).\n",
    "\n",
    "In C language, the array has a fixed size meaning once the size is given to it, it cannot be changed i.e. you can’t shrink it nor can you expand it. The reason was that for expanding if we change the size we can’t be sure ( it’s not possible every time) that we get the next memory location to us for free. The shrinking will not work because the array, when declared, gets memory statically allocated, and thus compiler is the only one that can destroy it\n",
    "\n",
    "Is a linear static data structure"
   ]
  },
  {
   "cell_type": "code",
   "execution_count": 2,
   "metadata": {},
   "outputs": [
    {
     "name": "stdout",
     "output_type": "stream",
     "text": [
      "[12, 34, 56, 78, 89]\n"
     ]
    }
   ],
   "source": [
    "arr = [12, 34, 56, 78, 89]\n",
    "print(arr)"
   ]
  },
  {
   "cell_type": "code",
   "execution_count": 10,
   "metadata": {},
   "outputs": [
    {
     "data": {
      "text/plain": [
       "34"
      ]
     },
     "execution_count": 10,
     "metadata": {},
     "output_type": "execute_result"
    }
   ],
   "source": [
    "arr[1]"
   ]
  },
  {
   "cell_type": "markdown",
   "metadata": {},
   "source": [
    "Usually array of characters is called a string and that of a number is simply called a array"
   ]
  },
  {
   "cell_type": "code",
   "execution_count": 9,
   "metadata": {},
   "outputs": [
    {
     "name": "stdout",
     "output_type": "stream",
     "text": [
      "[[123, 34, 5], [234, 56, 7]]\n"
     ]
    }
   ],
   "source": [
    "arrr = [[123, 34, 5], [234, 56, 7]]\n",
    "print(arrr)"
   ]
  },
  {
   "cell_type": "markdown",
   "metadata": {},
   "source": [
    "\n",
    "**Advantages of using arrays:**\n",
    "\n",
    "* Arrays allow random access to elements. This makes accessing elements by position faster.\n",
    "* Arrays have better cache locality which makes a pretty big difference in performance.\n",
    "* Arrays represent multiple data items of the same type using a single name.\n",
    "\n",
    "**Disadvantages of using arrays:**\n",
    "\n",
    "You can’t change the size i.e. once you have declared the array you can’t change its size because of static memory allocation. Here Insertion(s) and deletion(s) are difficult as the elements are stored in consecutive memory locations and the shifting operation is costly too.\n",
    "Now if take an example of the implementation of data structure Stack using array there are some obvious flaws. \n",
    "Let’s take the POP operation of the stack. The algorithm would go something like this. \n",
    "\n",
    "* Check for the stack underflow\n",
    "* Decrement the top by 1\n",
    "What we are doing here is, that the pointer to the topmost element is decremented, which means we are just bounding our view, and actually that element stays there taking up the memory space. If you have an array (as a Stack) of any primitive data type then it might be ok. But in the case of an array of Objects, it would take a lot of memory."
   ]
  },
  {
   "cell_type": "markdown",
   "metadata": {},
   "source": [
    "### Applications on Array\n",
    "\n",
    "* Array stores data elements of the same data type.\n",
    "* Arrays are used when the size of the data set is known.\n",
    "* Used in solving matrix problems.\n",
    "* Applied as a lookup table in computer.\n",
    "* Databases records are also implemented by the array.\n",
    "* Helps in implementing sorting algorithm.\n",
    "* The different variables of the same type can be saved under one name.\n",
    "* Arrays can be used for CPU scheduling.\n",
    "* Used to Implement other data structures like Stacks, Queues, Heaps, Hash tables, etc."
   ]
  },
  {
   "cell_type": "code",
   "execution_count": 13,
   "metadata": {},
   "outputs": [
    {
     "ename": "SystemExit",
     "evalue": "0",
     "output_type": "error",
     "traceback": [
      "An exception has occurred, use %tb to see the full traceback.\n",
      "\u001b[1;31mSystemExit\u001b[0m\u001b[1;31m:\u001b[0m 0\n"
     ]
    },
    {
     "name": "stderr",
     "output_type": "stream",
     "text": [
      "C:\\Users\\Ujjwal\\AppData\\Roaming\\Python\\Python39\\site-packages\\IPython\\core\\interactiveshell.py:3369: UserWarning: To exit: use 'exit', 'quit', or Ctrl-D.\n",
      "  warn(\"To exit: use 'exit', 'quit', or Ctrl-D.\", stacklevel=1)\n"
     ]
    }
   ],
   "source": [
    "# importing libraries\n",
    "from PyQt5.QtWidgets import *\n",
    "from PyQt5 import QtCore, QtGui\n",
    "from PyQt5.QtGui import *\n",
    "from PyQt5.QtCore import *\n",
    "import sys\n",
    " \n",
    " \n",
    "class Window(QMainWindow):\n",
    " \n",
    "    # list of numbers\n",
    "    number = [2, 3, 6, 9, 8, 12, 16, 7, 10, 5, 4, 11, 2, 13]\n",
    "    def __init__(self):\n",
    "        super().__init__()\n",
    " \n",
    "        # setting title\n",
    "        self.setWindowTitle(\"Linear search \")\n",
    " \n",
    "        # setting geometry\n",
    "        self.setGeometry(100, 100, 600, 400)\n",
    " \n",
    "        # calling method\n",
    "        self.UiComponents()\n",
    " \n",
    "        # showing all the widgets\n",
    "        self.show()\n",
    " \n",
    "    # method for widgets\n",
    "    def UiComponents(self):\n",
    " \n",
    "        # start flag\n",
    "        self.start = False\n",
    " \n",
    "        # list to hold labels\n",
    "        self.label_list = []\n",
    " \n",
    "        # desired value\n",
    "        self.desired = 11\n",
    " \n",
    "        # counter for keeping index\n",
    "        self.counter = 0\n",
    " \n",
    "        # local counter\n",
    "        c = 0\n",
    " \n",
    "        # iterating list of numbers\n",
    "        for i in self.number:\n",
    " \n",
    "            # creating label for each number\n",
    "            label = QLabel(str(i), self)\n",
    " \n",
    "            # adding background color and border\n",
    "            label.setStyleSheet(\"border : 1px solid black;background : white;\")\n",
    " \n",
    "            # aligning the text\n",
    "            label.setAlignment(Qt.AlignTop)\n",
    " \n",
    "            # setting geometry using local counter\n",
    "            # first parameter is distance from left\n",
    "            # and second is distance from top\n",
    "            # third is width and fourth is height\n",
    "            label.setGeometry(50 + c * 30, 50, 20, i * 10 + 10)\n",
    " \n",
    "            # adding label to the label list\n",
    "            self.label_list.append(label)\n",
    " \n",
    "            # incrementing local counter\n",
    "            c = c + 1\n",
    " \n",
    " \n",
    "        # creating push button to start the search\n",
    "        self.search_button = QPushButton(\"Start Search\", self)\n",
    " \n",
    "        # setting geometry of the button\n",
    "        self.search_button.setGeometry(100, 270, 100, 30)\n",
    " \n",
    "        # adding action to the search button\n",
    "        self.search_button.clicked.connect(self.search_action)\n",
    " \n",
    "        # creating push button to pause the search\n",
    "        pause_button = QPushButton(\"Pause\", self)\n",
    " \n",
    "        # setting geometry of the button\n",
    "        pause_button.setGeometry(100, 320, 100, 30)\n",
    " \n",
    "        # adding action to the search button\n",
    "        pause_button.clicked.connect(self.pause_action)\n",
    " \n",
    "        # creating label to show the result\n",
    "        self.result = QLabel(\"To search : \" + str(self.desired), self)\n",
    " \n",
    "        # setting geometry\n",
    "        self.result.setGeometry(350, 280, 200, 40)\n",
    " \n",
    "        # setting style sheet\n",
    "        self.result.setStyleSheet(\"border : 3px solid black;\")\n",
    " \n",
    "        # adding font\n",
    "        self.result.setFont(QFont('Times', 10))\n",
    " \n",
    "        # setting alignment\n",
    "        self.result.setAlignment(Qt.AlignCenter)\n",
    " \n",
    "        # creating a timer object\n",
    "        timer = QTimer(self)\n",
    " \n",
    "        # adding action to timer\n",
    "        timer.timeout.connect(self.showTime)\n",
    " \n",
    "        # update the timer every 200 millisecond\n",
    "        timer.start(200)\n",
    " \n",
    "    # method called by timer\n",
    "    def showTime(self):\n",
    " \n",
    "        # checking if flag is true\n",
    "        if self.start:\n",
    "            # linear search\n",
    " \n",
    "            # checking if the element is equal to desired element\n",
    "            if self.label_list[self.counter].text() == str(self.desired):\n",
    " \n",
    "                # make its color green\n",
    "                self.label_list[self.counter].setStyleSheet(\"border : 1px solid black;background : lightgreen;\")\n",
    " \n",
    "                # show result in result label\n",
    "                self.result.setText(\"Found at index : \"\n",
    "                                     + str(self.counter))\n",
    " \n",
    "                # make the start flag false\n",
    "                self.start = False\n",
    " \n",
    "                # resetting the counter\n",
    "                self.counter = 0\n",
    " \n",
    "            # if element is not equal\n",
    "            else:\n",
    " \n",
    "                # make the label color grey\n",
    "                self.label_list[self.counter].setStyleSheet(\"border : 1px solid black;background : grey;\")\n",
    " \n",
    "            # increment the counter\n",
    "            self.counter += 1\n",
    " \n",
    "            # if counter value become equal to list length\n",
    "            if self.counter == len(self.label_list):\n",
    " \n",
    "                # make start flag false\n",
    "                self.start = False\n",
    " \n",
    "                # show result i.e not found\n",
    "                self.result.setText(\"Not Found\")\n",
    " \n",
    "    # method called by search button\n",
    "    def search_action(self):\n",
    " \n",
    "        # making flag true\n",
    "        self.start = True\n",
    " \n",
    "        # showing text in result label\n",
    "        self.result.setText(\"Started searching...\")\n",
    " \n",
    "    # method called by pause button\n",
    "    def pause_action(self):\n",
    " \n",
    "        # making flag false\n",
    "        self.start = False\n",
    " \n",
    "        # showing text in result label\n",
    "        self.result.setText(\"Paused\")\n",
    " \n",
    " \n",
    "# create pyqt5 app\n",
    "App = QApplication(sys.argv)\n",
    " \n",
    "# create the instance of our Window\n",
    "window = Window()\n",
    " \n",
    "# start the app\n",
    "sys.exit(App.exec())"
   ]
  },
  {
   "cell_type": "markdown",
   "metadata": {},
   "source": [
    "## Problem\n",
    "Find the element that appears once in an array where every other element appears twice\n",
    "The best solution is to use XOR. XOR of all array elements gives us the number with a single occurrence. \n",
    "The idea is based on the following two facts. \n"
   ]
  },
  {
   "cell_type": "code",
   "execution_count": 32,
   "metadata": {},
   "outputs": [
    {
     "name": "stdout",
     "output_type": "stream",
     "text": [
      "Element occuring once is: 4\n"
     ]
    }
   ],
   "source": [
    "\n",
    "''' The working of the bitwise XOR operator can be summarised in the following rules.\n",
    "\n",
    "1 XOR 0 = 1\n",
    "1 XOR 1 = 0\n",
    "0 XOR 0 = 0\n",
    "1 XOR 0 = 1\n",
    "\n",
    "XOR of a number with itself is 0. \n",
    "XOR of a number with 0 is number itself.\n",
    "x ^ y = y ^ x.\n",
    "Let us consider the above example.  \n",
    "Let ^ be xor operator as in C and C++.\n",
    "\n",
    "res = 7 ^ 3 ^ 5 ^ 4 ^ 5 ^ 3 ^ 4\n",
    "\n",
    "Since XOR is associative and commutative, above \n",
    "expression can be written as:\n",
    "res = 7 ^ (3 ^ 3) ^ (4 ^ 4) ^ (5 ^ 5)  \n",
    "    = 7 ^ 0 ^ 0 ^ 0\n",
    "    = 7 ^ 0\n",
    "    = 7 '''\n",
    "\n",
    "'''Below has a O(n) complexity ... '''\n",
    "def find_single(array, n):\n",
    "    result = array[0]\n",
    "    for i in range(1, n): # range n tak hai but ye chlega n-1 tk hi .. which is actual length of array\n",
    "        result = result ^ array[i]\n",
    "    return result\n",
    "\n",
    "array  = [4, 5, 6, 5, 7, 8, 7, 8, 6]\n",
    "print('Element occuring once is: {}'.format(find_single(array, len(array))))\n",
    "    \n",
    "    \n",
    "# '''Can use Binary search also, it is a efficient approach to solve with O(nlogn) complexity '''\n",
    "\n",
    "# def single_element(arr, n):\n",
    "#     low = 0\n",
    "#     high = n - 2\n",
    "#     mid = 0\n",
    "#     while (low <= high):\n",
    "#         mid = (low + high) // 2\n",
    "#         if (arr[mid] == arr[mid ^ 1]):\n",
    "#             low = mid + 1\n",
    "#         else:\n",
    "#             high = mid - 1\n",
    "     \n",
    "#     return arr[low]\n",
    "     \n",
    "# # Driver code\n",
    "# arr = [2, 3, 5, 4, 5, 3, 4]\n",
    "# size = len(arr)\n",
    "# arr.sort()\n",
    "# print('Element occuring once is:', single_element(arr, size))\n"
   ]
  },
  {
   "cell_type": "markdown",
   "metadata": {},
   "source": [
    "## Problem\n",
    "Find the only repetitive element between 1 to n-1"
   ]
  },
  {
   "cell_type": "code",
   "execution_count": 14,
   "metadata": {},
   "outputs": [
    {
     "name": "stdout",
     "output_type": "stream",
     "text": [
      "Only repeating element is: 8\n"
     ]
    }
   ],
   "source": [
    "\n",
    "'''Not a effective solution as complexity is O(n^2), can achienve O(n) using hashing'''\n",
    "\n",
    "# def find_repeated(array, n):\n",
    "#     for i in range(n):\n",
    "#         for j in range(i + 1, n):\n",
    "#             if array[i] == array[j]:\n",
    "#                 return array[i]\n",
    "\n",
    "# array = [23, 5, 6, 5, 4, 3, 1, 5]\n",
    "# n = len(array)\n",
    "# result = find_repeated(array , n)\n",
    "# print('Repeated element is:', result)\n",
    "\n",
    "'''Another solution,  Use a data structure to store elements visited. If a seen element appears again, we return it.\n",
    "Complexity : O(n). You can use any data sturcture as list, set etc  ''' \n",
    "\n",
    "def findRepeating(array, n):\n",
    "    original = []\n",
    "    for i in range(n):\n",
    "        if array[i] in original:\n",
    "            return array[i]\n",
    "        original.append(array[i])\n",
    "     \n",
    "    # If input is correct, we should\n",
    "    # never reach here\n",
    "    return -1\n",
    " \n",
    "# Driver code\n",
    "arr = [9, 8, 2, 6, 1, 5, 8, 3]\n",
    "n = len(arr)\n",
    "print('Only repeating element is:', findRepeating(arr, n))\n"
   ]
  },
  {
   "cell_type": "markdown",
   "metadata": {},
   "source": [
    "## Problem\n",
    "Given an array A[] and a number x, check for pair in A[] with sum as x (aka Two Sum)"
   ]
  },
  {
   "cell_type": "code",
   "execution_count": 48,
   "metadata": {},
   "outputs": [
    {
     "name": "stdout",
     "output_type": "stream",
     "text": [
      "Yeah we have a pair with sum 16\n"
     ]
    }
   ],
   "source": [
    "\n",
    "\n",
    "# Below has a complexity of O(n)\n",
    "\n",
    "# def printPairs(array, n, sum):\n",
    "     \n",
    "#     # Create an empty hash map( dic data structure to store key value pairs )\n",
    "#     # using an hashmap allows us to store the indices as values and elements as keys\n",
    "#     hashmap = {}\n",
    "#     for i in range(n):\n",
    "#         num = sum - array[i]\n",
    "#         if num in hashmap: # if num is in keys of dictionary, checks num in dictionary\n",
    "#             print(f'The pair with sum {sum} is ({num}, {array[i]}) at index ({hashmap[num]},{i})')\n",
    "#         hashmap[array[i]] = i # adding key value pairs, dic[keys] = values\n",
    "#         # numbers are the keys and index is the value\n",
    "#     print(hashmap)\n",
    " \n",
    "# # driver code\n",
    "# array = [1, 4, 45, 6, 10, 8, 9, 8]\n",
    "# sum = 16\n",
    "# n = len(array)\n",
    "# printPairs(array, n, sum)\n",
    "\n",
    "'''Another solution, just to check whether there is pair having that sum or not \n",
    "Let an array be {1, 4, 45, 6, 10, -8} and sum to find be 16\n",
    "After sorting the array \n",
    "A = {-8, 1, 4, 6, 10, 45}\n",
    "Now, increment l when the sum of the pair is less than the required sum and decrement r when the sum of \n",
    "the pair is more than the required sum. \n",
    "This is because when the sum is less than the required sum then to get the number which could increase \n",
    "the sum of pair, start moving from left to right(also sort the array) thus “l++” and vice versa.\n",
    "Initialize l = 0, r = 5 \n",
    "A[l] + A[r] ( -8 + 45) > 16 => decrement r. Now r = 4 \n",
    "A[l] + A[r] ( -8 + 10) increment l. Now l = 1 \n",
    "A[l] + A[r] ( 1 + 10) increment l. Now l = 2 \n",
    "A[l] + A[r] ( 4 + 10) increment l. Now l = 3 \n",
    "A[l] + A[r] ( 6 + 10) == 16 => Found candidates (return 1)'''\n",
    " # we need an sorted array for this method to work \n",
    "def find_sum(array, n, sum):\n",
    "    l = 0\n",
    "    r =  n-1\n",
    "    while l < r:\n",
    "        if array[l] + array[r] == sum:\n",
    "            return 'Yeah we have a pair with sum {}'.format(sum)\n",
    "        elif array[l] + array[r] < sum: \n",
    "            l += 1\n",
    "        else: \n",
    "            r -= 1\n",
    "\n",
    "array = [1, 4, 45, 6, 10, -8]\n",
    "sum = 16\n",
    "n = len(array)\n",
    "array_sort = sorted(array)   \n",
    "print(find_sum(array_sort, n , sum))"
   ]
  },
  {
   "cell_type": "markdown",
   "metadata": {},
   "source": [
    "## Problem\n",
    " Given an array and a value, find if there is a triplet in array whose sum is equal to the given value. \n",
    "If there is such a triplet present in array, then print the triplet and return true. Else return false \n"
   ]
  },
  {
   "cell_type": "code",
   "execution_count": 28,
   "metadata": {},
   "outputs": [
    {
     "name": "stdout",
     "output_type": "stream",
     "text": [
      "{4}\n",
      "{4, 45}\n",
      "{10, 4, 45}\n",
      "{10, 4, 45, 6}\n",
      "{4, 6, 8, 10, 45}\n",
      "{45}\n",
      "{10, 45}\n",
      "{10, 45, 6}\n",
      "Triplet is: 4, 8, 10\n"
     ]
    },
    {
     "data": {
      "text/plain": [
       "True"
      ]
     },
     "execution_count": 28,
     "metadata": {},
     "output_type": "execute_result"
    }
   ],
   "source": [
    "\n",
    "# # 1) time complexity = O(n3) not good ...!!\n",
    "# def find_triplet(array, sum, size):\n",
    "#     # fixing first element\n",
    "#     for i in range(0, size-2):\n",
    "#         # fixing second element \n",
    "#         for j in range(i+1, size-1):\n",
    "#             # iterate to look for third number \n",
    "#             for k in range(j+1, size):\n",
    "#                 if array[i]+array[j]+array[k] == sum:\n",
    "#                     print('Triplet is: %d, %d, %d'%(array[i], array[j], array[k]))\n",
    "#                     return True\n",
    "#     ''' i runs till last 3nd element, j runs till last 2nd and k till last element, \n",
    "#     as for each i, there should be j and for each j there should be a k to start the next loop so \n",
    "#     if i ran till end you will get a index error as i+1 and j+1 won't be defined ! '''\n",
    "\n",
    "#     return False\n",
    "\n",
    "\n",
    "# # 2) time complexity: O(n2)\n",
    "# def find_triplet(array, sum, size):\n",
    "\n",
    "#     array.sort()\n",
    "\n",
    "#     for i in range(0, size - 2):\n",
    "#         ''' The loop is running till 4th element only as 5th can be left index and \n",
    "#         6th element can be right index, it is logical! if we ran beyond that ... you cannot define left and \n",
    "#         right indexes .. and index error may occur ! '''\n",
    "#         left_index = i + 1\n",
    "#         right_index = size - 1\n",
    "\n",
    "#         while(left_index < right_index):\n",
    "\n",
    "#             if (array[i] + array[left_index] + array[right_index]) == sum:\n",
    "#                 print('Triplet is: %d, %d, %d'%(array[i], array[left_index], array[right_index]))\n",
    "#                 return True\n",
    "            \n",
    "#             elif (array[i] + array[left_index] + array[right_index]) < sum:\n",
    "#                 left_index = left_index + 1\n",
    "            \n",
    "#             else: #(array[i] + array[left_index] + array[right_index]) > sum\n",
    "#                 right_index = right_index - 1\n",
    "\n",
    "#     return False\n",
    "\n",
    "\n",
    "# 3) Hashing  time complexity: O(n2), space complexity: O(n)\n",
    "def find_triplet(array, sum, size):\n",
    "    for i in range(0, size -1):\n",
    "        hastable = set()\n",
    "        # sum = array[i] + array[j] + 3rd\n",
    "        # sum - array[i] = array[j] + 3rd\n",
    "        # current_sum = array[j] + 3rd\n",
    "        current_sum = sum - array[i]\n",
    "\n",
    "        for j in range(i+1, size):\n",
    "            # current_sum - array[j] = 3rd\n",
    "            last_value = current_sum - array[j] \n",
    "            \n",
    "            if last_value in hastable:\n",
    "                print('Triplet is: %d, %d, %d'%(array[i], array[j], last_value))\n",
    "                return True\n",
    "            \n",
    "            hastable.add(array[j])\n",
    "            # print(hastable)\n",
    "    return False\n",
    "\n",
    "\n",
    "array = [1, 4, 45, 10, 6, 8]\n",
    "size = len(array)\n",
    "sum = 22\n",
    "find_triplet(array, sum, size)"
   ]
  },
  {
   "cell_type": "code",
   "execution_count": 1,
   "metadata": {},
   "outputs": [],
   "source": [
    "import numpy as np\n",
    "a = np.array([1,2,3])\n",
    "b = np.array([1,2,3])\n",
    "c = a*b\n",
    "d = np.dot(a, b)"
   ]
  },
  {
   "cell_type": "code",
   "execution_count": 3,
   "metadata": {},
   "outputs": [
    {
     "name": "stdout",
     "output_type": "stream",
     "text": [
      "[2]\n"
     ]
    }
   ],
   "source": [
    "a = np.array([1,2,3,5])\n",
    "print(a[[False, True, False, False]])"
   ]
  },
  {
   "cell_type": "code",
   "execution_count": 5,
   "metadata": {},
   "outputs": [
    {
     "name": "stdout",
     "output_type": "stream",
     "text": [
      "{1, 2, 3, 4, 5, 6}\n"
     ]
    }
   ],
   "source": [
    "x = {1, 2, 3, 4, 5 } # set doesn't allow duplicate values ....\n",
    "x.add(5)\n",
    "x.add(6)\n",
    "print(x)"
   ]
  },
  {
   "cell_type": "code",
   "execution_count": 6,
   "metadata": {},
   "outputs": [
    {
     "name": "stdout",
     "output_type": "stream",
     "text": [
      "{1: 1, 2: 4, 3: 9, 4: 16, 5: 25, 6: 36, 7: 49, 8: 64, 9: 81, 10: 100, 11: 121, 12: 144, 13: 169, 14: 196, 15: 225, 16: 256, 17: 289, 18: 324, 19: 361, 20: 400, 21: 441, 22: 484, 23: 529, 24: 576, 25: 625, 26: 676, 27: 729, 28: 784, 29: 841, 30: 900, 31: 961, 32: 1024, 33: 1089, 34: 1156, 35: 1225, 36: 1296, 37: 1369, 38: 1444, 39: 1521, 40: 1600, 41: 1681, 42: 1764, 43: 1849, 44: 1936, 45: 2025, 46: 2116, 47: 2209, 48: 2304, 49: 2401, 50: 2500, 51: 2601, 52: 2704, 53: 2809, 54: 2916, 55: 3025, 56: 3136, 57: 3249, 58: 3364, 59: 3481, 60: 3600, 61: 3721, 62: 3844, 63: 3969, 64: 4096, 65: 4225, 66: 4356, 67: 4489, 68: 4624, 69: 4761, 70: 4900, 71: 5041, 72: 5184, 73: 5329, 74: 5476, 75: 5625, 76: 5776, 77: 5929, 78: 6084, 79: 6241, 80: 6400, 81: 6561, 82: 6724, 83: 6889, 84: 7056, 85: 7225, 86: 7396, 87: 7569, 88: 7744, 89: 7921, 90: 8100, 91: 8281, 92: 8464, 93: 8649, 94: 8836, 95: 9025, 96: 9216, 97: 9409, 98: 9604, 99: 9801}\n"
     ]
    }
   ],
   "source": [
    "a = {x:x*x for x in range(1,100)} # dictionary comprehension ... kind off\n",
    "print(a)"
   ]
  },
  {
   "cell_type": "markdown",
   "metadata": {},
   "source": [
    "## Problem\n",
    "Given an unsorted array A of size N that contains only positive integers, find a continuous \n",
    "sub-array that adds to a given number S and return the left and right index(1-based indexing) of that subarray.\n",
    "\n",
    "In case of multiple subarrays, return the subarray indexes which come first on moving from left to right.\n",
    "\n",
    "Note:- You have to return an ArrayList consisting of two elements left and right. In case no such subarray exists return an array consisting of element -1.\n",
    "\n",
    "Example 1:\n",
    "\n",
    "Input:\n",
    "N = 5, S = 12\n",
    "\n",
    "A[] = {1,2,3,7,5}\n",
    "\n",
    "Output: 2 4\n",
    "\n",
    "Explanation: The sum of elements \n",
    "from 2nd position to 4th position \n",
    "is 12."
   ]
  },
  {
   "cell_type": "code",
   "execution_count": 1,
   "metadata": {},
   "outputs": [
    {
     "name": "stdout",
     "output_type": "stream",
     "text": [
      "Sum of 12 can be found between 2 and 4 element\n"
     ]
    }
   ],
   "source": [
    "def subArraySum(arr, n, s): \n",
    "    #Write your code here\n",
    "    sum ,l, r =  0, 0, 0\n",
    "    while r < n:\n",
    "        sum += arr[r]\n",
    "        while sum > s:\n",
    "            sum -= arr[l]\n",
    "            l += 1\n",
    "        if s == sum:\n",
    "            return l+1, r+1\n",
    "        r += 1\n",
    "    return [-1]\n",
    "    \n",
    "arr = [1,2,3,7,5]\n",
    "n = len(arr)    \n",
    "s = 12\n",
    "left, right = subArraySum(arr,n,s)\n",
    "print(f'Sum of {s} can be found between {left} and {right} element')"
   ]
  },
  {
   "cell_type": "markdown",
   "metadata": {},
   "source": [
    "## Problem\n",
    "Given an array of size N-1 such that it only contains distinct integers in the range of 1 to N. Find the missing element.\n",
    "\n",
    "Example 1:\n",
    "\n",
    "Input:\n",
    "\n",
    "N = 5\n",
    "\n",
    "A[] = {1,2,3,5}\n",
    "\n",
    "Output: 4"
   ]
  },
  {
   "cell_type": "code",
   "execution_count": 9,
   "metadata": {},
   "outputs": [
    {
     "data": {
      "text/plain": [
       "4"
      ]
     },
     "execution_count": 9,
     "metadata": {},
     "output_type": "execute_result"
    }
   ],
   "source": [
    "\n",
    "'''This has a time complexity of On2, not viable'''\n",
    "# def missingNumber(array,n):\n",
    "#     for element in range(1,n+1):\n",
    "#         if element not in array:\n",
    "#             return element\n",
    "\n",
    "'''This has time complexity of On, so good solution'''\n",
    "\n",
    "def missingNumber(array,n):\n",
    "    sum1 = 0\n",
    "    sum2 = 0\n",
    "    N = n\n",
    "    while (N>0):\n",
    "        sum1 = sum1+N\n",
    "        N = N-1\n",
    "    for i in range(0,n-1):\n",
    "        sum2 += array[i]\n",
    "    return sum1 - sum2\n",
    "\n",
    "n = 5\n",
    "array = [1,2,3,5]\n",
    "missingNumber(array,n)"
   ]
  }
 ],
 "metadata": {
  "kernelspec": {
   "display_name": "Python 3.9.2 64-bit",
   "language": "python",
   "name": "python3"
  },
  "language_info": {
   "codemirror_mode": {
    "name": "ipython",
    "version": 3
   },
   "file_extension": ".py",
   "mimetype": "text/x-python",
   "name": "python",
   "nbconvert_exporter": "python",
   "pygments_lexer": "ipython3",
   "version": "3.9.2"
  },
  "orig_nbformat": 4,
  "vscode": {
   "interpreter": {
    "hash": "d816a64555e2e6c17bf4c4f5776e26edc6eefc166129356d4718ae49e1c8c667"
   }
  }
 },
 "nbformat": 4,
 "nbformat_minor": 2
}
