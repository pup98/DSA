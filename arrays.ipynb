{
 "cells": [
  {
   "cell_type": "markdown",
   "metadata": {},
   "source": [
    "# Arrays\n",
    "```\n",
    "An array is a collection of items stored at contiguous memory locations. The idea is to store multiple items of the same type together. This makes it easier to calculate the position of each element by simply adding an offset to a base value, i.e., the memory location of the first element of the array (generally denoted by the name of the array). The base value is index 0 and the difference between the two indexes is the offset.\n",
    "For simplicity, we can think of an array as a fleet of stairs where on each step is placed a value (let’s say one of your friends).\n",
    "\n",
    "In C language, the array has a fixed size meaning once the size is given to it, it cannot be changed i.e. you can’t shrink it nor can you expand it. The reason was that for expanding if we change the size we can’t be sure ( it’s not possible every time) that we get the next memory location to us for free. The shrinking will not work because the array, when declared, gets memory statically allocated, and thus compiler is the only one that can destroy it\n",
    "\n",
    "Is a linear static data structure"
   ]
  },
  {
   "cell_type": "code",
   "execution_count": null,
   "metadata": {},
   "outputs": [],
   "source": [
    "arr = [12, 34, 56, 78, 89]\n",
    "print(arr)"
   ]
  },
  {
   "cell_type": "code",
   "execution_count": null,
   "metadata": {},
   "outputs": [],
   "source": [
    "arr[1]"
   ]
  },
  {
   "cell_type": "markdown",
   "metadata": {},
   "source": [
    "Usually array of characters is called a string and that of a number is simply called a array"
   ]
  },
  {
   "cell_type": "code",
   "execution_count": null,
   "metadata": {},
   "outputs": [],
   "source": [
    "arrr = [[123, 34, 5], [234, 56, 7]]\n",
    "print(arrr)"
   ]
  },
  {
   "cell_type": "markdown",
   "metadata": {},
   "source": [
    "\n",
    "**Advantages of using arrays:**\n",
    "\n",
    "* Arrays allow random access to elements. This makes accessing elements by position faster.\n",
    "* Arrays have better cache locality which makes a pretty big difference in performance.\n",
    "* Arrays represent multiple data items of the same type using a single name.\n",
    "\n",
    "**Disadvantages of using arrays:**\n",
    "\n",
    "You can’t change the size i.e. once you have declared the array you can’t change its size because of static memory allocation. Here Insertion(s) and deletion(s) are difficult as the elements are stored in consecutive memory locations and the shifting operation is costly too.\n",
    "Now if take an example of the implementation of data structure Stack using array there are some obvious flaws. \n",
    "Let’s take the POP operation of the stack. The algorithm would go something like this. \n",
    "\n",
    "* Check for the stack underflow\n",
    "* Decrement the top by 1\n",
    "What we are doing here is, that the pointer to the topmost element is decremented, which means we are just bounding our view, and actually that element stays there taking up the memory space. If you have an array (as a Stack) of any primitive data type then it might be ok. But in the case of an array of Objects, it would take a lot of memory."
   ]
  },
  {
   "cell_type": "markdown",
   "metadata": {},
   "source": [
    "### Applications on Array\n",
    "\n",
    "* Array stores data elements of the same data type.\n",
    "* Arrays are used when the size of the data set is known.\n",
    "* Used in solving matrix problems.\n",
    "* Applied as a lookup table in computer.\n",
    "* Databases records are also implemented by the array.\n",
    "* Helps in implementing sorting algorithm.\n",
    "* The different variables of the same type can be saved under one name.\n",
    "* Arrays can be used for CPU scheduling.\n",
    "* Used to Implement other data structures like Stacks, Queues, Heaps, Hash tables, etc."
   ]
  },
  {
   "cell_type": "markdown",
   "metadata": {},
   "source": [
    "## Problem\n",
    "Find the element that appears once in an array where every other element appears twice\n"
   ]
  },
  {
   "cell_type": "code",
   "execution_count": null,
   "metadata": {},
   "outputs": [],
   "source": [
    "\n",
    "''' The working of the bitwise XOR operator can be summarised in the following rules.\n",
    "\n",
    "1 XOR 0 = 1\n",
    "1 XOR 1 = 0\n",
    "0 XOR 0 = 0\n",
    "1 XOR 0 = 1\n",
    "\n",
    "XOR of a number with itself is 0. \n",
    "XOR of a number with 0 is number itself.\n",
    "x ^ y = y ^ x.\n",
    "Let us consider the above example.  \n",
    "Let ^ be xor operator as in C and C++.\n",
    "\n",
    "res = 7 ^ 3 ^ 5 ^ 4 ^ 5 ^ 3 ^ 4\n",
    "\n",
    "Since XOR is associative and commutative, above \n",
    "expression can be written as:\n",
    "res = 7 ^ (3 ^ 3) ^ (4 ^ 4) ^ (5 ^ 5)  \n",
    "    = 7 ^ 0 ^ 0 ^ 0\n",
    "    = 7 ^ 0\n",
    "    = 7 '''\n",
    "\n",
    "'''Below has a O(n) complexity ... '''\n",
    "def find_single(array, n):\n",
    "    result = array[0] # have to initialize ... first element\n",
    "    for i in range(1, n): # range starts from 1 as we have initialized ... result as first element (0th)\n",
    "        result = result ^ array[i]\n",
    "    return result\n",
    "\n",
    "array  = [4, 5, 6, 5, 7, 8, 7, 8, 6]\n",
    "print('Element occuring once is: {}'.format(find_single(array, len(array))))\n",
    "    \n",
    "    \n",
    "# '''Can use Binary search also, it is a efficient approach to solve with O(nlogn) complexity '''\n",
    "\n",
    "# def single_element(arr, n):\n",
    "#     low = 0\n",
    "#     high = n - 2\n",
    "#     mid = 0\n",
    "#     while (low <= high):\n",
    "#         mid = (low + high) // 2\n",
    "#         if (arr[mid] == arr[mid ^ 1]):\n",
    "#             low = mid + 1\n",
    "#         else:\n",
    "#             high = mid - 1\n",
    "     \n",
    "#     return arr[low]\n",
    "     \n",
    "# # Driver code\n",
    "# arr = [2, 3, 5, 4, 5, 3, 4]\n",
    "# size = len(arr)\n",
    "# arr.sort()\n",
    "# print('Element occuring once is:', single_element(arr, size))\n"
   ]
  },
  {
   "cell_type": "markdown",
   "metadata": {},
   "source": [
    "## Problem\n",
    "Find the only repetitive element between 1 to n-1"
   ]
  },
  {
   "cell_type": "code",
   "execution_count": 19,
   "metadata": {},
   "outputs": [
    {
     "name": "stdout",
     "output_type": "stream",
     "text": [
      "Only repeating element is: 9\n"
     ]
    }
   ],
   "source": [
    "\n",
    "'''Not a effective solution as complexity is O(n^2), can achienve O(n) using hashing'''\n",
    "\n",
    "# def find_repeated(array, n):\n",
    "#     for i in range(n):\n",
    "#         for j in range(i + 1, n):\n",
    "#             if array[i] == array[j]:\n",
    "#                 return array[i]\n",
    "\n",
    "# array = [23, 5, 6, 5, 4, 3, 1, 5]\n",
    "# n = len(array)\n",
    "# result = find_repeated(array , n)\n",
    "# print('Repeated element is:', result)\n",
    "\n",
    "'''Another solution is by hashing, Use a data structure to store elements visited. If a seen element appears again, \n",
    "we return it. Complexity : O(n). You can use any data sturcture as list, set etc  ''' \n",
    "\n",
    "def findRepeating(array, n):\n",
    "    original = []\n",
    "    for i in range(n):\n",
    "        if array[i] in original:\n",
    "            return array[i]\n",
    "        original.append(array[i])\n",
    "     \n",
    "    # If input is correct, we should\n",
    "    # never reach here\n",
    "    return 'No repeating element found'\n",
    " \n",
    "# Driver code\n",
    "arr = [9, 3, 2, 6, 1, 5, 9, 23]\n",
    "n = len(arr)\n",
    "print('Only repeating element is:', findRepeating(arr, n))\n"
   ]
  },
  {
   "cell_type": "markdown",
   "metadata": {},
   "source": [
    "## Problem\n",
    "Given an array A[ ] and a number x, check for pair in A[ ] with sum as x (aka Two Sum)"
   ]
  },
  {
   "cell_type": "code",
   "execution_count": null,
   "metadata": {},
   "outputs": [],
   "source": [
    "# Below has a complexity of O(n)\n",
    "\n",
    "# def printPairs(array, n, sum):\n",
    "     \n",
    "#     # Create an empty hash map( dic data structure to store key value pairs )\n",
    "#     # using an hashmap allows us to store the indices as values and elements as keys\n",
    "#     hashmap = {}\n",
    "#     for i in range(n):\n",
    "#         num = sum - array[i]\n",
    "#         if num in hashmap: # if num is in keys of dictionary, checks num in dictionary\n",
    "#             print(f'The pair with sum {sum} is ({num}, {array[i]}) at index ({hashmap[num]},{i})')\n",
    "#         hashmap[array[i]] = i # adding key value pairs, dic[keys] = values\n",
    "#         # numbers are the keys and index is the value\n",
    "#     print(hashmap)\n",
    " \n",
    "# # driver code\n",
    "# array = [1, 4, 45, 6, 10, 8, 9, 8]\n",
    "# sum = 16\n",
    "# n = len(array)\n",
    "# printPairs(array, n, sum)\n",
    "\n",
    "# This has time complexity of O(NlogN)\n",
    "'''Another solution, just to check whether there is pair having that sum or not \n",
    "Let an array be {1, 4, 45, 6, 10, -8} and sum to find be 16\n",
    "After sorting the array \n",
    "A = {-8, 1, 4, 6, 10, 45}\n",
    "Now, increment l when the sum of the pair is less than the required sum and decrement r when the sum of \n",
    "the pair is more than the required sum. \n",
    "This is because when the sum is less than the required sum then to get the number which could increase \n",
    "the sum of pair, start moving from left to right(also sort the array) thus “l++” and vice versa.\n",
    "Initialize l = 0, r = 5 \n",
    "A[l] + A[r] ( -8 + 45) > 16 => decrement r. Now r = 4 \n",
    "A[l] + A[r] ( -8 + 10) increment l. Now l = 1 \n",
    "A[l] + A[r] ( 1 + 10) increment l. Now l = 2 \n",
    "A[l] + A[r] ( 4 + 10) increment l. Now l = 3 \n",
    "A[l] + A[r] ( 6 + 10) == 16 => Found candidates (return 1)'''\n",
    "\n",
    "# we need an sorted array for this method to work \n",
    "def find_sum(array, n, sum):\n",
    "    l = 0\n",
    "    r =  n-1\n",
    "    while l < r:\n",
    "        if array[l] + array[r] == sum:\n",
    "            return 'Yeah we have a pair with sum {}'.format(sum)\n",
    "        elif array[l] + array[r] < sum: \n",
    "            l += 1\n",
    "        else: \n",
    "            r -= 1\n",
    "\n",
    "array = [1, 4, 45, 6, 10, -8]\n",
    "sum = 16\n",
    "n = len(array)\n",
    "array_sort = sorted(array)   \n",
    "print(find_sum(array_sort, n , sum))"
   ]
  },
  {
   "cell_type": "markdown",
   "metadata": {},
   "source": [
    "## Problem\n",
    " Given an array and a value, find if there is a triplet in array whose sum is equal to the given value. \n",
    "If there is such a triplet present in array, then print the triplet and return true. Else return false \n"
   ]
  },
  {
   "cell_type": "code",
   "execution_count": null,
   "metadata": {},
   "outputs": [],
   "source": [
    "\n",
    "# # 1) time complexity = O(n3) not good ...!!\n",
    "# def find_triplet(array, sum, size):\n",
    "#     # fixing first element\n",
    "#     for i in range(0, size-2):\n",
    "#         # fixing second element \n",
    "#         for j in range(i+1, size-1):\n",
    "#             # iterate to look for third number \n",
    "#             for k in range(j+1, size):\n",
    "#                 if array[i]+array[j]+array[k] == sum:\n",
    "#                     print('Triplet is: %d, %d, %d'%(array[i], array[j], array[k]))\n",
    "#                     return True\n",
    "#     ''' i runs till last 3nd element, j runs till last 2nd and k till last element, \n",
    "#     as for each i, there should be j and for each j there should be a k to start the next loop so \n",
    "#     if i ran till end you will get a index error as i+1 and j+1 won't be defined ! '''\n",
    "\n",
    "#     return False\n",
    "\n",
    "\n",
    "# # 2) time complexity: O(n2)\n",
    "# def find_triplet(array, sum, size):\n",
    "\n",
    "#     array.sort()\n",
    "\n",
    "#     for i in range(0, size - 2):\n",
    "#         ''' The loop is running till 4th element only as 5th can be left index and \n",
    "#         6th element can be right index, it is logical! if we ran beyond that ... you cannot define left and \n",
    "#         right indexes .. and index error may occur ! '''\n",
    "#         left_index = i + 1\n",
    "#         right_index = size - 1\n",
    "\n",
    "#         while(left_index < right_index):\n",
    "\n",
    "#             if (array[i] + array[left_index] + array[right_index]) == sum:\n",
    "#                 print('Triplet is: %d, %d, %d'%(array[i], array[left_index], array[right_index]))\n",
    "#                 return True\n",
    "            \n",
    "#             elif (array[i] + array[left_index] + array[right_index]) < sum:\n",
    "#                 left_index = left_index + 1\n",
    "            \n",
    "#             else: #(array[i] + array[left_index] + array[right_index]) > sum\n",
    "#                 right_index = right_index - 1\n",
    "\n",
    "#     return False\n",
    "\n",
    "\n",
    "# 3) Hashing  time complexity: O(n2), space complexity: O(n)\n",
    "def find_triplet(array, sum, size):\n",
    "    for i in range(0, size -1):\n",
    "        hastable = set()\n",
    "        # sum = array[i] + array[j] + 3rd\n",
    "        # sum - array[i] = array[j] + 3rd\n",
    "        # current_sum = array[j] + 3rd\n",
    "        current_sum = sum - array[i]\n",
    "\n",
    "        for j in range(i+1, size):\n",
    "            # current_sum - array[j] = 3rd\n",
    "            last_value = current_sum - array[j] \n",
    "            \n",
    "            if last_value in hastable:\n",
    "                print('Triplet is: %d, %d, %d'%(array[i], array[j], last_value))\n",
    "                return True\n",
    "            \n",
    "            hastable.add(array[j])\n",
    "            # print(hastable)\n",
    "    return False\n",
    "\n",
    "\n",
    "array = [1, 4, 45, 10, 6, 8]\n",
    "size = len(array)\n",
    "sum = 22\n",
    "find_triplet(array, sum, size)"
   ]
  },
  {
   "cell_type": "code",
   "execution_count": 21,
   "metadata": {},
   "outputs": [
    {
     "name": "stdout",
     "output_type": "stream",
     "text": [
      "14\n"
     ]
    }
   ],
   "source": [
    "import numpy as np\n",
    "a = np.array([1,2,3])\n",
    "b = np.array([1,2,3])\n",
    "c = a*b\n",
    "print(np.dot(a, b))"
   ]
  },
  {
   "cell_type": "code",
   "execution_count": 22,
   "metadata": {},
   "outputs": [
    {
     "name": "stdout",
     "output_type": "stream",
     "text": [
      "[2]\n"
     ]
    }
   ],
   "source": [
    "a = np.array([1,2,3,5])\n",
    "print(a[[False, True, False, False]])"
   ]
  },
  {
   "cell_type": "code",
   "execution_count": 23,
   "metadata": {},
   "outputs": [
    {
     "name": "stdout",
     "output_type": "stream",
     "text": [
      "{1, 2, 3, 4, 5, 6}\n"
     ]
    }
   ],
   "source": [
    "x = {1, 2, 3, 4, 5 } # set doesn't allow duplicate values ....\n",
    "x.add(5)\n",
    "x.add(6)\n",
    "print(x)"
   ]
  },
  {
   "cell_type": "code",
   "execution_count": 26,
   "metadata": {},
   "outputs": [
    {
     "name": "stdout",
     "output_type": "stream",
     "text": [
      "{1: 1, 2: 4, 3: 9, 4: 16, 5: 25, 6: 36, 7: 49, 8: 64, 9: 81, 10: 100}\n"
     ]
    }
   ],
   "source": [
    "a = {x:x*x for x in range(1,11)} # dictionary comprehension ... kind off\n",
    "print(a)"
   ]
  },
  {
   "cell_type": "markdown",
   "metadata": {},
   "source": [
    "## Problem\n",
    "Given an unsorted array A of size N that contains only positive integers, find a continuous \n",
    "sub-array that adds to a given number S and return the left and right index(1-based indexing) of that subarray.\n",
    "\n",
    "In case of multiple subarrays, return the subarray indexes which come first on moving from left to right.\n",
    "\n",
    "Note:- You have to return an ArrayList consisting of two elements left and right. In case no such subarray exists return an array consisting of element -1.\n",
    "\n",
    "Example 1:\n",
    "\n",
    "Input:\n",
    "N = 5, S = 12\n",
    "\n",
    "A[] = {1,2,3,7,5}\n",
    "\n",
    "Output: 2 4\n",
    "\n",
    "Explanation: The sum of elements \n",
    "from 2nd position to 4th position \n",
    "is 12."
   ]
  },
  {
   "cell_type": "code",
   "execution_count": null,
   "metadata": {},
   "outputs": [],
   "source": [
    "def subArraySum(arr, n, s): \n",
    "    #Write your code here\n",
    "    sum ,l, r =  0, 0, 0\n",
    "    while r < n:\n",
    "        sum += arr[r]\n",
    "        while sum > s:\n",
    "            sum -= arr[l]\n",
    "            l += 1\n",
    "        if s == sum:\n",
    "            return l+1, r+1\n",
    "        r += 1\n",
    "    return [-1]\n",
    "    \n",
    "arr = [1,2,3,7,5]\n",
    "n = len(arr)    \n",
    "s = 12\n",
    "left, right = subArraySum(arr,n,s)\n",
    "print(f'Sum of {s} can be found between {left} and {right} element')"
   ]
  },
  {
   "cell_type": "markdown",
   "metadata": {},
   "source": [
    "## Problem\n",
    "Given an array of size N-1 such that it only contains distinct integers in the range of 1 to N. Find the missing element. <br />\n",
    "Example 1: <br />\n",
    "Input:<br />\n",
    "N = 5<br />\n",
    "A[] = {1,2,3,5}<br />\n",
    "Output: 4"
   ]
  },
  {
   "cell_type": "code",
   "execution_count": null,
   "metadata": {},
   "outputs": [],
   "source": [
    "\n",
    "'''This has a time complexity of On2, not viable'''\n",
    "# def missingNumber(array,n):\n",
    "#     for element in range(1,n+1):\n",
    "#         if element not in array:\n",
    "#             return element\n",
    "\n",
    "'''This has time complexity of O(n), so good solution'''\n",
    "\n",
    "def missingNumber(array,n):\n",
    "    sum1 = 0\n",
    "    sum2 = 0\n",
    "    N = n\n",
    "    while (N>0):\n",
    "        sum1 = sum1+N\n",
    "        N = N-1\n",
    "    for i in range(0,n-1):\n",
    "        sum2 += array[i]\n",
    "    return sum1 - sum2\n",
    "\n",
    "n = 5\n",
    "array = [1,2,3,5]\n",
    "missingNumber(array,n)"
   ]
  },
  {
   "cell_type": "markdown",
   "metadata": {},
   "source": [
    "### Problem\n",
    "Given an array of size N containing only 0s, 1s, and 2s; sort the array in ascending order."
   ]
  },
  {
   "cell_type": "code",
   "execution_count": null,
   "metadata": {},
   "outputs": [],
   "source": [
    "array = [0,0,2,2,1]\n",
    "n =5\n",
    "c= [0,0,0]\n",
    "for i in array:\n",
    "    # print(i)\n",
    "    c[i] = c[i]+1\n",
    "print(c)\n",
    "print('////////////////')\n",
    "\n",
    "k = 0\n",
    "for i in range(3): # as loop will go by 0,1,2\n",
    "    while(k<n and c[i]!=0):\n",
    "        array[k] = i\n",
    "        k = k+1\n",
    "        c[i]=c[i]-1\n",
    "        print(array)\n",
    "        print(k,' >:',c)\n",
    "        \n",
    "# print(array)"
   ]
  },
  {
   "cell_type": "code",
   "execution_count": null,
   "metadata": {},
   "outputs": [],
   "source": [
    "def array_sort(array):\n",
    "    array.sort()\n",
    "    return array\n",
    "\n",
    "array = [0,1,2,0,2,0]\n",
    "array_sort(array)"
   ]
  },
  {
   "cell_type": "markdown",
   "metadata": {},
   "source": [
    "### Problem: Wave array\n",
    "Given a sorted array arr[] of distinct integers. Sort the array into a wave-like array(In Place).\n",
    "Note:The given array is sorted in ascending order, and you don't need to return anything to make changes in the original array itself.\n",
    "\n",
    "Input: <br />\n",
    "n = 5<br />\n",
    "arr[] = {1,2,3,4,5}<br />\n",
    "Output: 2 1 4 3 5<br />\n",
    "Explanation: Array elements after<br /> \n",
    "sorting it in wave form are <br />\n",
    "2 1 4 3 5.<br />\n",
    "Complexity: O(n)"
   ]
  },
  {
   "cell_type": "code",
   "execution_count": null,
   "metadata": {},
   "outputs": [],
   "source": [
    "def wave_list(arr, len_of_array):\n",
    "    arr.sort()\n",
    "    if n % 2 != 0:\n",
    "        k = 0\n",
    "        while k <= n-1-2:\n",
    "            temp = arr[k]\n",
    "            arr[k] = arr[k+1]\n",
    "            arr[k+1] = temp\n",
    "            k += 2\n",
    "    else:\n",
    "        k = 0\n",
    "        while k <= n-2:\n",
    "            temp = arr[k]\n",
    "            arr[k] = arr[k+1]\n",
    "            arr[k+1] = temp\n",
    "            k += 2\n",
    "    return arr\n",
    "\n",
    "arr = [2, 4, 7, 8, 9, 10]\n",
    "n = 6\n",
    "wave_list(arr, n)"
   ]
  },
  {
   "cell_type": "code",
   "execution_count": null,
   "metadata": {},
   "outputs": [],
   "source": [
    "def wave_list(a, len_of_array):\n",
    "    for i in range(0,n-1,2):\n",
    "        if a[i] < a[i+1]:\n",
    "            temp = a[i]\n",
    "            a[i] = a[i+1]\n",
    "            a[i+1] = temp\n",
    "    return arr\n",
    "arr = [2, 4, 7, 8, 9, 98]\n",
    "n = 6\n",
    "wave_list(arr, n)"
   ]
  },
  {
   "cell_type": "markdown",
   "metadata": {},
   "source": [
    "### Problem: Bitonic array max\n",
    " Find max of Bitonic array! Olog(n)"
   ]
  },
  {
   "cell_type": "code",
   "execution_count": null,
   "metadata": {},
   "outputs": [],
   "source": [
    "# Recursion\n",
    "\n",
    "def find_max(array,low,high):\n",
    "\n",
    "    if low == high:\n",
    "        return array[low]\n",
    "    \n",
    "    mid = (low + high) // 2\n",
    "\n",
    "    if array[mid] < array[mid + 1]:\n",
    "        return find_max(array, mid+1, high)\n",
    "    else:\n",
    "        return find_max(array,low,mid)\n",
    "\n",
    "array = [1, 4, 77, 45, 35, 12, 11, 10]\n",
    "find_max(array,0,len(array)-1)"
   ]
  },
  {
   "cell_type": "code",
   "execution_count": null,
   "metadata": {},
   "outputs": [],
   "source": [
    "# Recursion\n",
    "\n",
    "def max_bitonic_array(arr, low, high):\n",
    "    \n",
    "    if (low<=high):\n",
    "        mid = low + (high - low) // 2\n",
    "\n",
    "        if(arr[mid] > arr[mid - 1] and arr[mid] > arr[mid + 1]):\n",
    "            return arr[mid] \n",
    "        \n",
    "        # move to the right part\n",
    "        elif(arr[mid] < arr[mid + 1]):\n",
    "            return max_bitonic_array(array, mid + 1, high)\n",
    "            \n",
    "        # move to the left part\n",
    "        else:\n",
    "            return max_bitonic_array(array, low, mid)\n",
    "\n",
    "array = [ 6, 7, 228, 11, 9, 5, 4, 2, 1]\n",
    "max_bitonic_array(array, 0, len(array)-1)"
   ]
  },
  {
   "cell_type": "code",
   "execution_count": 13,
   "metadata": {},
   "outputs": [
    {
     "data": {
      "text/plain": [
       "28"
      ]
     },
     "execution_count": 13,
     "metadata": {},
     "output_type": "execute_result"
    }
   ],
   "source": [
    "# Iterative\n",
    "\n",
    "def max_bitonic_array(arr, n):\n",
    "    low  = 0\n",
    "    high = n-1 # last index\n",
    "    while(low <= high):\n",
    "        # finding the mid index\n",
    "        mid = low + (high - low) // 2\n",
    "        \n",
    "        # if both the values on either side of mid index is lesser .. then it is max\n",
    "        if(arr[mid] > arr[mid - 1] and arr[mid] > arr[mid + 1]):\n",
    "            return arr[mid] \n",
    "        \n",
    "        # move to the right part\n",
    "        elif(arr[mid] < arr[mid + 1]):\n",
    "            low = mid + 1\n",
    "                \n",
    "        # move to the right part\n",
    "        else:\n",
    "            high = mid -1\n",
    "\n",
    "arr = [ 6, 7, 28, 11, 9, 5, 4, 2, 1]\n",
    "n = len(arr)\n",
    "max_bitonic_array(arr,n)"
   ]
  },
  {
   "cell_type": "code",
   "execution_count": null,
   "metadata": {},
   "outputs": [],
   "source": [
    "# With O(n) complexity .. linear search\n",
    "\n",
    "def max_bitonic_array(array):\n",
    "    n = len(array)\n",
    "    max = array[0]\n",
    "    for i in range(n):\n",
    "        if array[i] > max:\n",
    "            max = array[i]\n",
    "    return max\n",
    "\n",
    "arr = [ 6, 7, 28, 111, 9, 5, 4, 2, 1]\n",
    "max_bitonic_array(arr)"
   ]
  },
  {
   "cell_type": "markdown",
   "metadata": {},
   "source": [
    "### Problem: Find duplicates in an array if none return -1\n",
    "Complexity: O(n)"
   ]
  },
  {
   "cell_type": "code",
   "execution_count": null,
   "metadata": {},
   "outputs": [],
   "source": [
    "def find_duplicate(arr, n):\n",
    "    arr.sort()\n",
    "    dup_list = []\n",
    "    for i in range(n):\n",
    "        if arr[i] in dup_list:\n",
    "            print(arr[i], end = ' ')\n",
    "        dup_list.append(arr[i])\n",
    "\n",
    "arr = [2,3,11,2,3]\n",
    "n = 5\n",
    "find_duplicate(arr, n)"
   ]
  },
  {
   "cell_type": "code",
   "execution_count": null,
   "metadata": {},
   "outputs": [],
   "source": [
    "a = [2,3,11,2,3]\n",
    "\n",
    "import collections\n",
    "print([item for item, count in collections.Counter(a).items() if count > 1])"
   ]
  },
  {
   "cell_type": "code",
   "execution_count": null,
   "metadata": {},
   "outputs": [],
   "source": [
    "def printDuplicates(arr,n):\n",
    "    result_dict = {}\n",
    " \n",
    "    for ele in arr:\n",
    "        try:\n",
    "            result_dict[ele] += 1\n",
    "        except:\n",
    "            result_dict[ele] = 1\n",
    "   \n",
    "    for item in result_dict:\n",
    "         \n",
    "         # if frequency is more than 1\n",
    "         # print the element\n",
    "        if(result_dict[item] > 1):\n",
    "            print(item, end=\" \")\n",
    " \n",
    "arr = [2,3,11,2,3]\n",
    "n = 5\n",
    "printDuplicates(arr, n)"
   ]
  },
  {
   "cell_type": "code",
   "execution_count": null,
   "metadata": {},
   "outputs": [],
   "source": [
    "def find_duplicate(arr, n):\n",
    "    arr.sort\n",
    "    dup_list = []\n",
    "    res_list = []\n",
    "    for i in range(n):\n",
    "        if arr[i] in dup_list:\n",
    "            res_list.append(arr[i]) \n",
    "        dup_list.append(arr[i])\n",
    "    \n",
    "    if not res_list:\n",
    "        return [-1]\n",
    "    else:\n",
    "        return list(dict.fromkeys(res_list))\n",
    "\n",
    "arr = [2,3,11,2,3]\n",
    "n = 5\n",
    "find_duplicate(arr, n)"
   ]
  },
  {
   "cell_type": "code",
   "execution_count": null,
   "metadata": {},
   "outputs": [],
   "source": [
    "def duplicates(arr, n): \n",
    "    # code here\n",
    "    arr.sort()\n",
    "    result_set = []\n",
    "    ans_prev = None\n",
    "    prev_element = arr[0]\n",
    "    for i in range(1, n):\n",
    "        if prev_element == arr[i]:\n",
    "            if prev_element != ans_prev:\n",
    "                result_set.append(prev_element)\n",
    "                # print(ans_prev, end= ' ')\n",
    "                ans_prev = prev_element\n",
    "                # print(prev_element)\n",
    "        else:\n",
    "            prev_element = arr[i]\n",
    "            \n",
    "    if not result_set:\n",
    "        return [-1]\n",
    "    return result_set\n",
    "\n",
    "arr = [2,3,11,2,3]\n",
    "n = 5\n",
    "duplicates(arr, n)"
   ]
  },
  {
   "cell_type": "markdown",
   "metadata": {},
   "source": [
    "### Problem: Leaders in an array\n",
    "Complexity: O(n) <br />\n",
    "Given an array A of positive integers. Your task is to find the leaders in the array. <br />\n",
    "An element of array is leader if it is greater than or equal to all the elements to its right side. <br />\n",
    "The rightmost element is always a leader.<br />\n",
    "<br />\n",
    "n = 6<br />\n",
    "A[] = {16,17,4,3,5,2}<br />\n",
    "Output: 17 5 2 <br />\n",
    "\n",
    "If repeating elements are there, return those too! "
   ]
  },
  {
   "cell_type": "code",
   "execution_count": null,
   "metadata": {},
   "outputs": [],
   "source": [
    "def leader_element(arr, n):\n",
    "        max_list = []\n",
    "        max_element = arr[n-1]\n",
    "        max_list.append(arr[n-1])\n",
    "        for i in range(n-2, -1,-1):\n",
    "            if max_element <= arr[i]: \n",
    "                max_element = arr[i]\n",
    "                max_list.append(max_element)\n",
    "        max_list.sort(reverse=True)\n",
    "        return max_list\n",
    "\n",
    "arr = [16,17,17,3,5,2]\n",
    "n = 6\n",
    "leader_element(arr, n)"
   ]
  },
  {
   "cell_type": "markdown",
   "metadata": {},
   "source": [
    "### Problem: Equilibrium Point\n",
    "Given an array A of n positive numbers. The task is to find the first <br />\n",
    "equilibrium point in an array. Equilibrium point in an array is a position such <br />\n",
    "that the sum of elements before it is equal to the sum of elements after it.<br />\n",
    "\n",
    "Note: Return equilibrium point in 1-based indexing. Return -1 if no such point exists.<br />\n",
    "Input: <br />\n",
    "n = 5 <br />\n",
    "A[] = {1,3,5,2,2} <br />\n",
    "Output: <br />\n",
    "3 <br />\n",
    "Complexity: O(n)"
   ]
  },
  {
   "cell_type": "code",
   "execution_count": null,
   "metadata": {},
   "outputs": [],
   "source": [
    "def eqi_point(arr, n):\n",
    "    if n == 1:\n",
    "        return 1\n",
    "    else:\n",
    "        for i in range(1,n):\n",
    "            sum_left = sum(arr[0:i+1])\n",
    "            sum_right = sum(arr[i:n+1])\n",
    "            if sum_left == sum_right:\n",
    "                return i+1\n",
    "    return -1\n",
    "\n",
    "arr = [1,3,5,2,2]\n",
    "# arr = [4,5,7]\n",
    "# arr = [1]\n",
    "n = 5\n",
    "eqi_point(arr, n)"
   ]
  },
  {
   "cell_type": "code",
   "execution_count": null,
   "metadata": {},
   "outputs": [],
   "source": [
    "def eqi_point(arr, n):\n",
    "    if n == 1:\n",
    "        return 1\n",
    "    else: \n",
    "        right_sum = sum(arr)\n",
    "        left_sum = 0\n",
    "        for i, element in enumerate(arr):\n",
    "            right_sum -= element\n",
    "            if left_sum == right_sum:\n",
    "                return i+1\n",
    "            left_sum += element\n",
    "    return -1\n",
    "\n",
    "# arr = [1,3,5,2,2]\n",
    "# arr = [4,5,7]\n",
    "arr = [1]\n",
    "n = 1\n",
    "eqi_point(arr, n)"
   ]
  },
  {
   "cell_type": "markdown",
   "metadata": {},
   "source": []
  },
  {
   "cell_type": "code",
   "execution_count": 63,
   "metadata": {},
   "outputs": [
    {
     "data": {
      "text/plain": [
       "2"
      ]
     },
     "execution_count": 63,
     "metadata": {},
     "output_type": "execute_result"
    }
   ],
   "source": [
    "def find_peak(arr, n):\n",
    "    if n==1:\n",
    "        return 0\n",
    "    if (arr[n-1] > arr[n-2]):\n",
    "        return n-1\n",
    "    if (arr[0]> arr[1]):\n",
    "        return 0\n",
    "    \n",
    "    low = 0\n",
    "    high = n-1\n",
    "\n",
    "    while(low<high):\n",
    "        mid = low + (high-low) // 2\n",
    "\n",
    "        if (mid == 0 or arr[mid]> arr[mid-1] and arr[mid] > arr[mid+1]):\n",
    "            return mid\n",
    "        elif (mid > 0 and arr[mid] < arr[mid+1]):\n",
    "            low = mid + 1\n",
    "        else:\n",
    "            high = mid -1\n",
    "\n",
    "arr  = [1,2,23,6,12,4]\n",
    "# arr = [2,7,21,42]\n",
    "n = 6\n",
    "find_peak(arr, n)"
   ]
  },
  {
   "cell_type": "code",
   "execution_count": 64,
   "metadata": {},
   "outputs": [
    {
     "data": {
      "text/plain": [
       "[1, 4]"
      ]
     },
     "execution_count": 64,
     "metadata": {},
     "output_type": "execute_result"
    }
   ],
   "source": [
    "def findPeak(arr, n) :\n",
    "    peak_list = []\n",
    "    # first or last element is peak element\n",
    "    if (n == 1) :\n",
    "      return 0\n",
    "    if (arr[0] >= arr[1]) :\n",
    "        return 0\n",
    "    if (arr[n - 1] >= arr[n - 2]) :\n",
    "        return n - 1\n",
    "   \n",
    "    # check for every other element\n",
    "    for i in range(1, n - 1) :\n",
    "   \n",
    "        # check if the neighbors are smaller\n",
    "        if (arr[i] >= arr[i - 1] and arr[i] >= arr[i + 1]) :\n",
    "            # return i\n",
    "            peak_list.append(i)\n",
    "    return peak_list\n",
    "\n",
    "arr = [4,7,2,4,6,2]\n",
    "n = 6\n",
    "findPeak(arr, n)"
   ]
  },
  {
   "cell_type": "markdown",
   "metadata": {},
   "source": [
    "### Problem: Remove duplicate elements from sorted Array\n",
    "O(n) time and ... O(1) space"
   ]
  },
  {
   "cell_type": "code",
   "execution_count": 17,
   "metadata": {},
   "outputs": [
    {
     "data": {
      "text/plain": [
       "[3, 22, 456]"
      ]
     },
     "execution_count": 17,
     "metadata": {},
     "output_type": "execute_result"
    }
   ],
   "source": [
    "def remove_duplicates(array, n):\n",
    "    if n == 0 or n ==1:\n",
    "        return array\n",
    "    \n",
    "    unique_index = 0\n",
    "    for i in range(n-1): # 0>1>2\n",
    "        if array[i] != array[i+1]:\n",
    "            array[unique_index] = array[i] # unique_index: 0,1\n",
    "            unique_index += 1 # unique_index: 1,2\n",
    "            \n",
    "    array[unique_index] = array[n-1] # unique_index[2] = 456\n",
    "    new_array = array[:unique_index+1]\n",
    "    return new_array\n",
    "\n",
    "array = [3,22,22,456]\n",
    "n = len(array)\n",
    "remove_duplicates(array, n)"
   ]
  },
  {
   "cell_type": "markdown",
   "metadata": {},
   "source": []
  },
  {
   "cell_type": "code",
   "execution_count": null,
   "metadata": {},
   "outputs": [],
   "source": []
  },
  {
   "cell_type": "markdown",
   "metadata": {},
   "source": [
    "#######################################################################################################"
   ]
  },
  {
   "cell_type": "markdown",
   "metadata": {},
   "source": [
    "### Problem: First and last occurrences of x\n",
    "Given a sorted array arr containing n elements with possibly duplicate is to find indexes of first elements, the task is to find the first and last occurrences of an element x in the given array.\n",
    "Note: If the number x is not found in the array then return both the indices as -1.<br />\n",
    "Input: <br />\n",
    "n=9, x=5<br />\n",
    "arr[] = { 1, 3, 5, 5, 5, 5, 67, 123, 125 }<br />\n",
    "Output:  <br />\n",
    "2 5<br />\n",
    "Expected Time Complexity: O(logN)"
   ]
  },
  {
   "cell_type": "code",
   "execution_count": null,
   "metadata": {},
   "outputs": [],
   "source": [
    "'''In python u can run two while loops in a single program using multithreading \n",
    "only, there isn't any other choice!'''\n",
    "\n",
    "def find(arr, n, value):\n",
    "    low = 0\n",
    "    high = n-1\n",
    "    \n",
    "    def first_index(arr, n, value, low, high):\n",
    "        while low <= high:\n",
    "            mid = low + (high-low) // 2\n",
    "            if ((mid == 0 or value > arr[mid - 1]) and arr[mid]==value):\n",
    "                return mid\n",
    "        \n",
    "            elif arr[mid] < value: \n",
    "                low = mid + 1\n",
    "            else: # if arr[mid] = value or arr[mid] > value\n",
    "                high = mid - 1 # in an atempt to search left half\n",
    "        return -1\n",
    "\n",
    "    def last_index(arr, n, value, low, high):\n",
    "        while low <= high:\n",
    "            mid = low + (high-low) // 2\n",
    "            if ((mid == n-1 or value < arr[mid + 1]) and arr[mid]==value):\n",
    "                return mid\n",
    "                break\n",
    "            \n",
    "            elif arr[mid] > value:\n",
    "                high = mid - 1\n",
    "            else: # if arr[mid] = value or arr[mid] < value\n",
    "                low = mid + 1 # in an attempt to search right half\n",
    "        return -1\n",
    "    \n",
    "    first = first_index(arr, n, value, low, high)\n",
    "    last = last_index(arr, n, value, low, high)\n",
    "    return [first, last]\n",
    "\n",
    "n=9\n",
    "value = 9\n",
    "arr = [1, 3, 5, 7, 8, 9, 9, 9, 125]\n",
    "find(arr, n, value)"
   ]
  },
  {
   "cell_type": "code",
   "execution_count": null,
   "metadata": {},
   "outputs": [],
   "source": [
    "# O(n) solution ! Superbbbbbb solution\n",
    "def find(arr, n, value):\n",
    "    first = 0\n",
    "    last = 0\n",
    "    for i in range(n):\n",
    "        if arr[i] != value:\n",
    "            continue\n",
    "        if first == 0:\n",
    "            first = i\n",
    "        last = i\n",
    "        \n",
    "    if (first != -1):\n",
    "        return [first, last]\n",
    "    else:\n",
    "        return -1\n",
    "\n",
    "n=9\n",
    "value = 9\n",
    "arr = [1, 3, 5, 7, 8, 9, 9, 9, 125]\n",
    "find(arr, n, value)"
   ]
  },
  {
   "cell_type": "markdown",
   "metadata": {},
   "source": [
    "### Problem sliding window: subarray and max of subarray"
   ]
  },
  {
   "cell_type": "code",
   "execution_count": null,
   "metadata": {},
   "outputs": [],
   "source": [
    "def max_of_subarrays(array,n,k):\n",
    "    for i in range(n):\n",
    "        arr_new = array[i:k] # 0-3/2, 1-4/3, 2-5/4\n",
    "        k += 1\n",
    "        if len(arr_new) == 3:\n",
    "            print(arr_new)\n",
    "\n",
    "n = 9\n",
    "k = 3\n",
    "arr = [1, 2, 3, 1, 4, 5, 2, 45, 6]\n",
    "max_of_subarrays(arr,n,k)"
   ]
  },
  {
   "cell_type": "code",
   "execution_count": null,
   "metadata": {},
   "outputs": [],
   "source": [
    "def calc(array, k):\n",
    "    k_max = []\n",
    "    result = []\n",
    "\n",
    "    for ind, val in enumerate(array):\n",
    "        # update local maxes (all are active)\n",
    "       \n",
    "        for i in range(len(k_max)):\n",
    "            if val > k_max[i] :\n",
    "                k_max[i] = val\n",
    "        # one new sub-array starts\n",
    "        k_max.append(val)\n",
    "        print(k_max)\n",
    "        if ind >= (k-1):  # one sub-array ends\n",
    "            result.append(k_max[0])\n",
    "            k_max.pop(0)\n",
    "\n",
    "    return result\n",
    "\n",
    "\n",
    "t2 = [12, 1, 78, 90, 57, 89, 56]\n",
    "calc(t2, 3)"
   ]
  },
  {
   "cell_type": "markdown",
   "metadata": {},
   "source": [
    "## Problem\n",
    "Product of array except for self <br />\n",
    "[1,2,3,4]  > [24,12,8,6]"
   ]
  },
  {
   "cell_type": "code",
   "execution_count": null,
   "metadata": {},
   "outputs": [],
   "source": [
    "# # Brute force way! \n",
    "# def find_product(array):\n",
    "#     prod_list = []\n",
    "#     for i in range(len(array)):\n",
    "#         prod *= array[]\n"
   ]
  }
 ],
 "metadata": {
  "kernelspec": {
   "display_name": "Python 3.9.2 64-bit",
   "language": "python",
   "name": "python3"
  },
  "language_info": {
   "codemirror_mode": {
    "name": "ipython",
    "version": 3
   },
   "file_extension": ".py",
   "mimetype": "text/x-python",
   "name": "python",
   "nbconvert_exporter": "python",
   "pygments_lexer": "ipython3",
   "version": "3.10.11"
  },
  "orig_nbformat": 4,
  "vscode": {
   "interpreter": {
    "hash": "d816a64555e2e6c17bf4c4f5776e26edc6eefc166129356d4718ae49e1c8c667"
   }
  }
 },
 "nbformat": 4,
 "nbformat_minor": 2
}
